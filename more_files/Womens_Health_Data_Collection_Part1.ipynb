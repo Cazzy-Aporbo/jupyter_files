{
 "cells": [
  {
   "cell_type": "markdown",
   "metadata": {},
   "source": [
    "# Women's Health Data Collection - Part 1\n",
    "\n",
    "## Overview\n",
    "\n",
    "This notebook is the first in a series focused on creating a dataset for training an LLM model to predict better questions for women's health consultations. This part focuses specifically on data collection from multiple sources.\n",
    "\n",
    "### Objectives\n",
    "- Set up the necessary environment and dependencies\n",
    "- Collect data from ClinicalTrials.gov API for women's health studies\n",
    "- Collect data from PubMed for women's health research\n",
    "- Create a structured dataset of commonly dismissed women's health questions\n",
    "- Implement save points to preserve collected data\n",
    "\n",
    "### Why This Matters\n",
    "Women's health questions are often dismissed in healthcare settings, leading to delayed diagnoses and treatment. By collecting data on commonly dismissed questions and their better alternatives, we can train an LLM to help women formulate more effective questions that are less likely to be dismissed by healthcare providers."
   ]
  },
  {
   "cell_type": "markdown",
   "metadata": {},
   "source": [
    "## 1. Environment Setup\n",
    "\n",
    "First, let's set up our environment by importing necessary libraries and creating directories for our data."
   ]
  },
  {
   "cell_type": "code",
   "execution_count": 29,
   "metadata": {},
   "outputs": [
    {
     "name": "stdout",
     "output_type": "stream",
     "text": [
      "Pandas version: 1.5.3\n",
      "NumPy version: 1.24.3\n",
      "Current time: 2025-03-31 21:49:27\n"
     ]
    }
   ],
   "source": [
    "# Import necessary libraries  \n",
    "import pandas as pd  \n",
    "import numpy as np  \n",
    "import os  \n",
    "import json  \n",
    "import requests  \n",
    "import time  \n",
    "from datetime import datetime  \n",
    "import matplotlib.pyplot as plt  \n",
    "import seaborn as sns  \n",
    "from tqdm.notebook import tqdm  \n",
    "  \n",
    "# Set up plotting style - using updated style name  \n",
    "plt.style.use('seaborn-v0_8-whitegrid')  # Updated from 'seaborn-whitegrid'  \n",
    "sns.set(style=\"whitegrid\")  \n",
    "  \n",
    "# Display versions for reproducibility  \n",
    "print(f\"Pandas version: {pd.__version__}\")  \n",
    "print(f\"NumPy version: {np.__version__}\")  \n",
    "print(f\"Current time: {datetime.now().strftime('%Y-%m-%d %H:%M:%S')}\")  "
   ]
  },
  {
   "cell_type": "code",
   "execution_count": 30,
   "metadata": {},
   "outputs": [
    {
     "name": "stdout",
     "output_type": "stream",
     "text": [
      "Directory structure created at: /Users/cazandraaporbo/Desktop/FOXX_Health/coding_work/jup_files/delivery/documentation/womens_health_data\n"
     ]
    }
   ],
   "source": [
    "# Create directory structure for data storage  \n",
    "# This ensures we have a consistent place to save our collected data  \n",
    "  \n",
    "# Main data directory  \n",
    "data_dir = 'womens_health_data'  \n",
    "# Raw data from different sources  \n",
    "raw_dir = os.path.join(data_dir, 'raw')  \n",
    "# Checkpoints to save progress  \n",
    "checkpoint_dir = os.path.join(data_dir, 'checkpoints')  \n",
    "# Processed data after cleaning  \n",
    "processed_dir = os.path.join(data_dir, 'processed')  \n",
    "  \n",
    "# Create directories if they don't exist  \n",
    "for directory in [data_dir, raw_dir, checkpoint_dir, processed_dir]:  \n",
    "    os.makedirs(directory, exist_ok=True)  \n",
    "  \n",
    "print(f\"Directory structure created at: {os.path.abspath(data_dir)}\")  "
   ]
  },
  {
   "cell_type": "code",
   "execution_count": 31,
   "metadata": {},
   "outputs": [
    {
     "name": "stdout",
     "output_type": "stream",
     "text": [
      "Data directory: /Users/cazandraaporbo/Desktop/FOXX_Health/coding_work/jup_files/delivery/documentation/womens_health_data\n"
     ]
    }
   ],
   "source": [
    "\n",
    "# You can customize this to your own path if needed  \n",
    "data_dir = 'womens_health_data'  \n",
    "  \n",
    "# Print the absolute path to confirm  \n",
    "print(f\"Data directory: {os.path.abspath(data_dir)}\")  "
   ]
  },
  {
   "cell_type": "markdown",
   "metadata": {},
   "source": [
    "## 2. Helper Functions\n",
    "\n",
    "Create helper functions for saving and loading checkpoints. This will allow us to resume our work without having to re-run time-consuming data collection steps."
   ]
  },
  {
   "cell_type": "code",
   "execution_count": 32,
   "metadata": {},
   "outputs": [
    {
     "name": "stdout",
     "output_type": "stream",
     "text": [
      "save_checkpoint function defined.\n"
     ]
    }
   ],
   "source": [
    "def save_checkpoint(df, name):  \n",
    "    \"\"\"Save a dataframe as a checkpoint CSV file.\"\"\"  \n",
    "    # Create the full path with timestamp to avoid overwriting  \n",
    "    timestamp = datetime.now().strftime(\"%Y%m%d_%H%M%S\")  \n",
    "    filename = f\"{name}_{timestamp}.csv\"  \n",
    "    path = os.path.join(checkpoint_dir, filename)  \n",
    "      \n",
    "    # Save the dataframe  \n",
    "    df.to_csv(path, index=False)  \n",
    "    print(f\"Checkpoint saved: {path}\")  \n",
    "      \n",
    "    # Also save a version with a fixed name for easy loading  \n",
    "    fixed_path = os.path.join(checkpoint_dir, f\"{name}_latest.csv\")  \n",
    "    df.to_csv(fixed_path, index=False)  \n",
    "    print(f\"Latest version saved: {fixed_path}\")  \n",
    "      \n",
    "    return path  \n",
    "  \n",
    "print(\"save_checkpoint function defined.\")  "
   ]
  },
  {
   "cell_type": "code",
   "execution_count": 33,
   "metadata": {},
   "outputs": [
    {
     "name": "stdout",
     "output_type": "stream",
     "text": [
      "load_checkpoint function defined.\n"
     ]
    }
   ],
   "source": [
    "def load_checkpoint(name):  \n",
    "    \"\"\"Load the latest checkpoint for a given name.\"\"\"  \n",
    "    path = os.path.join(checkpoint_dir, f\"{name}_latest.csv\")  \n",
    "      \n",
    "    if os.path.exists(path) and os.path.getsize(path) > 0:  \n",
    "        try:  \n",
    "            df = pd.read_csv(path)  \n",
    "            print(f\"Checkpoint loaded: {path}\")  \n",
    "            print(f\"Shape: {df.shape}\")  \n",
    "            return df  \n",
    "        except pd.errors.EmptyDataError:  \n",
    "            print(f\"Warning: Checkpoint file exists but is empty: {path}\")  \n",
    "            return None  \n",
    "        except Exception as e:  \n",
    "            print(f\"Error loading checkpoint: {e}\")  \n",
    "            return None  \n",
    "    else:  \n",
    "        print(f\"Checkpoint not found or empty: {path}\")  \n",
    "        return None  \n",
    "  \n",
    "print(\"load_checkpoint function defined.\")  "
   ]
  },
  {
   "cell_type": "code",
   "execution_count": 27,
   "metadata": {},
   "outputs": [
    {
     "name": "stdout",
     "output_type": "stream",
     "text": [
      "verify_dataframe function defined.\n"
     ]
    }
   ],
   "source": [
    "# Define verify_dataframe function  \n",
    "def verify_dataframe(df, name):  \n",
    "    \"Verify a dataframe by displaying basic information.\"\"\"  \n",
    "    print(\"\\n--- \" + name + \" Verification ---\")  \n",
    "    print(\"Shape:\", df.shape)  \n",
    "    print(\"\\nFirst 5 rows:\")  \n",
    "    display(df.head())  \n",
    "    print(\"\\nData types:\")  \n",
    "    display(df.dtypes)  \n",
    "    print(\"\\nMissing values:\")  \n",
    "    missing = df.isnull().sum()  \n",
    "    if any(missing > 0):  \n",
    "        display(missing[missing > 0])  \n",
    "    else:  \n",
    "        print(\"No missing values\")  \n",
    "    print(\"\\nBasic statistics:\")  \n",
    "    display(df.describe(include='all').T)  \n",
    "    print(\"----------------------------\\n\")  \n",
    "  \n",
    "print(\"verify_dataframe function defined.\")  "
   ]
  },
  {
   "cell_type": "code",
   "execution_count": 34,
   "metadata": {},
   "outputs": [
    {
     "name": "stdout",
     "output_type": "stream",
     "text": [
      "verify_dataframe function defined.\n"
     ]
    }
   ],
   "source": [
    "def verify_dataframe(df, name):  \n",
    "    \"\"\"Verify a dataframe by displaying basic information.\"\"\"  \n",
    "    print(f\"\\n--- {name} Verification ---\")  \n",
    "    print(f\"Shape: {df.shape}\")  \n",
    "    print(\"\\nFirst 5 rows:\")  \n",
    "    display(df.head())  \n",
    "    print(\"\\nData types:\")  \n",
    "    display(df.dtypes)  \n",
    "    print(\"\\nMissing values:\")  \n",
    "    missing = df.isnull().sum()  \n",
    "    if any(missing > 0):  \n",
    "        display(missing[missing > 0])  \n",
    "    else:  \n",
    "        print(\"No missing values\")  \n",
    "    print(\"\\nBasic statistics:\")  \n",
    "    display(df.describe(include='all').T)  \n",
    "    print(\"----------------------------\\n\")  \n",
    "  \n",
    "print(\"verify_dataframe function defined.\")  "
   ]
  },
  {
   "cell_type": "code",
   "execution_count": 36,
   "metadata": {},
   "outputs": [
    {
     "name": "stdout",
     "output_type": "stream",
     "text": [
      "--- Code Cell 4 ---\n",
      "def save_checkpoint(df, name):  \n",
      "    \"\"\"Save a dataframe as a checkpoint CSV file.\"\"\"  \n",
      "    # Create the full path with timestamp to avoid overwriting  \n",
      "    timestamp = datetime.now().strftime(\"%Y%m%d_%H%M%S\")  \n",
      "    filename = f\"{name}_{timestamp}.csv\"  \n",
      "    path = os.path.join(checkpoint_dir, filename)  \n",
      "      \n",
      "    # Save the dataframe  \n",
      "    df.to_csv(path, index=False)  \n",
      "    print(f\"Checkpoint saved: {path}\")  \n",
      "      \n",
      "    # Also save a version with a fixed name for easy loading  \n",
      "    fixed_pat...\n",
      "--- Code Cell 5 ---\n",
      "def load_checkpoint(name):  \n",
      "    \"\"\"Load the latest checkpoint for a given name.\"\"\"  \n",
      "    path = os.path.join(checkpoint_dir, f\"{name}_latest.csv\")  \n",
      "      \n",
      "    if os.path.exists(path) and os.path.getsize(path) > 0:  \n",
      "        try:  \n",
      "            df = pd.read_csv(path)  \n",
      "            print(f\"Checkpoint loaded: {path}\")  \n",
      "            print(f\"Shape: {df.shape}\")  \n",
      "            return df  \n",
      "        except pd.errors.EmptyDataError:  \n",
      "            print(f\"Warning: Checkpoint file exists but is empty: {path...\n",
      "--- Code Cell 6 ---\n",
      "# Define verify_dataframe function  \n",
      "def verify_dataframe(df, name):  \n",
      "    \"Verify a dataframe by displaying basic information.\"\"\"  \n",
      "    print(\"\\n--- \" + name + \" Verification ---\")  \n",
      "    print(\"Shape:\", df.shape)  \n",
      "    print(\"\\nFirst 5 rows:\")  \n",
      "    display(df.head())  \n",
      "    print(\"\\nData types:\")  \n",
      "    display(df.dtypes)  \n",
      "    print(\"\\nMissing values:\")  \n",
      "    missing = df.isnull().sum()  \n",
      "    if any(missing > 0):  \n",
      "        display(missing[missing > 0])  \n",
      "    else:  \n",
      "        print(\"No missing va...\n"
     ]
    }
   ],
   "source": [
    "with open('Womens_Health_Data_Collection_Part1.ipynb', 'r', encoding='utf-8') as f:\n",
    "    notebook = json.load(f)\n",
    "\n",
    "code_cells = [cell for cell in notebook.get('cells', []) if cell.get('cell_type') == 'code']\n",
    "\n",
    "# Show the next few code cells (4-6)\n",
    "for i, cell in enumerate(code_cells[3:6], 4):\n",
    "    source = ''.join(cell.get('source', []))\n",
    "    print(f\"\\\n",
    "--- Code Cell {i} ---\")\n",
    "    print(source[:500] + \"...\" if len(source) > 500 else source)  # Limit output length"
   ]
  },
  {
   "cell_type": "code",
   "execution_count": null,
   "metadata": {},
   "outputs": [],
   "source": []
  },
  {
   "cell_type": "code",
   "execution_count": null,
   "metadata": {},
   "outputs": [],
   "source": []
  },
  {
   "cell_type": "markdown",
   "metadata": {},
   "source": [
    "## 3. Data Collection from ClinicalTrials.gov\n",
    "\n",
    "ClinicalTrials.gov is a database of clinical studies conducted around the world. We'll use their API to collect data on women's health studies."
   ]
  },
  {
   "cell_type": "code",
   "execution_count": 37,
   "metadata": {},
   "outputs": [],
   "source": [
    "def fetch_clinical_trials(term, max_results=100):\n",
    "    \"\"\"\n",
    "    Fetch clinical trials data from ClinicalTrials.gov API.\n",
    "    \n",
    "    Parameters:\n",
    "    - term: search term\n",
    "    - max_results: maximum number of results to return\n",
    "    \n",
    "    Returns:\n",
    "    - data: JSON response from the API\n",
    "    \"\"\"\n",
    "    base_url = \"https://clinicaltrials.gov/api/query/study_fields\"\n",
    "    \n",
    "    # Define the fields we want to retrieve\n",
    "    fields = [\n",
    "        \"NCTId\", \"BriefTitle\", \"OfficialTitle\", \"Condition\", \"ConditionMeshTerm\",\n",
    "        \"Gender\", \"MinimumAge\", \"MaximumAge\", \"HealthyVolunteers\",\n",
    "        \"StudyType\", \"Phase\", \"EnrollmentCount\", \"StartDate\", \"PrimaryCompletionDate\",\n",
    "        \"Sponsor\", \"LeadSponsorName\", \"LocationCountry\", \"LocationFacility\"\n",
    "    ]\n",
    "    \n",
    "    # Construct the query parameters\n",
    "    params = {\n",
    "        \"expr\": term + \" AND AREA[Gender]Female\",  # Focus on women's health\n",
    "        \"fields\": \",\".join(fields),\n",
    "        \"min_rnk\": 1,\n",
    "        \"max_rnk\": max_results,\n",
    "        \"fmt\": \"json\"\n",
    "    }\n",
    "    \n",
    "    # Make the request\n",
    "    print(f\"Fetching clinical trials for term: {term}\")\n",
    "    response = requests.get(base_url, params=params)\n",
    "    \n",
    "    # Check if the request was successful\n",
    "    if response.status_code == 200:\n",
    "        data = response.json()\n",
    "        print(f\"Retrieved {len(data['StudyFieldsResponse']['StudyFields'])} studies\")\n",
    "        return data\n",
    "    else:\n",
    "        print(f\"Error: {response.status_code}\")\n",
    "        print(response.text)\n",
    "        return None"
   ]
  },
  {
   "cell_type": "code",
   "execution_count": 10,
   "metadata": {},
   "outputs": [
    {
     "name": "stdout",
     "output_type": "stream",
     "text": [
      "Checkpoint not found or empty: womens_health_data/checkpoints/clinical_trials_latest.csv\n"
     ]
    },
    {
     "data": {
      "application/vnd.jupyter.widget-view+json": {
       "model_id": "5056e028fd324f2c859af303d4ecc965",
       "version_major": 2,
       "version_minor": 0
      },
      "text/plain": [
       "Fetching clinical trials:   0%|          | 0/15 [00:00<?, ?it/s]"
      ]
     },
     "metadata": {},
     "output_type": "display_data"
    },
    {
     "name": "stdout",
     "output_type": "stream",
     "text": [
      "Fetching clinical trials for term: Endometriosis\n",
      "Error: 404\n",
      "<html>\n",
      "<head><title>404 Not Found</title></head>\n",
      "<body>\n",
      "<center><h1>404 Not Found</h1></center>\n",
      "<hr><center>nginx/1.26.2</center>\n",
      "</body>\n",
      "</html>\n",
      "\n",
      "Fetching clinical trials for term: Polycystic Ovary Syndrome\n",
      "Error: 404\n",
      "<html>\n",
      "<head><title>404 Not Found</title></head>\n",
      "<body>\n",
      "<center><h1>404 Not Found</h1></center>\n",
      "<hr><center>nginx/1.26.2</center>\n",
      "</body>\n",
      "</html>\n",
      "\n",
      "Fetching clinical trials for term: Uterine Fibroids\n",
      "Error: 404\n",
      "<html>\n",
      "<head><title>404 Not Found</title></head>\n",
      "<body>\n",
      "<center><h1>404 Not Found</h1></center>\n",
      "<hr><center>nginx/1.26.2</center>\n",
      "</body>\n",
      "</html>\n",
      "\n",
      "Fetching clinical trials for term: Pregnancy Complications\n",
      "Error: 404\n",
      "<html>\n",
      "<head><title>404 Not Found</title></head>\n",
      "<body>\n",
      "<center><h1>404 Not Found</h1></center>\n",
      "<hr><center>nginx/1.26.2</center>\n",
      "</body>\n",
      "</html>\n",
      "\n",
      "Fetching clinical trials for term: Postpartum Depression\n",
      "Error: 404\n",
      "<html>\n",
      "<head><title>404 Not Found</title></head>\n",
      "<body>\n",
      "<center><h1>404 Not Found</h1></center>\n",
      "<hr><center>nginx/1.26.2</center>\n",
      "</body>\n",
      "</html>\n",
      "\n",
      "Fetching clinical trials for term: Menopause\n",
      "Error: 404\n",
      "<html>\n",
      "<head><title>404 Not Found</title></head>\n",
      "<body>\n",
      "<center><h1>404 Not Found</h1></center>\n",
      "<hr><center>nginx/1.26.2</center>\n",
      "</body>\n",
      "</html>\n",
      "\n",
      "Fetching clinical trials for term: Osteoporosis\n",
      "Error: 404\n",
      "<html>\n",
      "<head><title>404 Not Found</title></head>\n",
      "<body>\n",
      "<center><h1>404 Not Found</h1></center>\n",
      "<hr><center>nginx/1.26.2</center>\n",
      "</body>\n",
      "</html>\n",
      "\n",
      "Fetching clinical trials for term: Breast Cancer\n",
      "Error: 404\n",
      "<html>\n",
      "<head><title>404 Not Found</title></head>\n",
      "<body>\n",
      "<center><h1>404 Not Found</h1></center>\n",
      "<hr><center>nginx/1.26.2</center>\n",
      "</body>\n",
      "</html>\n",
      "\n",
      "Fetching clinical trials for term: Ovarian Cancer\n",
      "Error: 404\n",
      "<html>\n",
      "<head><title>404 Not Found</title></head>\n",
      "<body>\n",
      "<center><h1>404 Not Found</h1></center>\n",
      "<hr><center>nginx/1.26.2</center>\n",
      "</body>\n",
      "</html>\n",
      "\n",
      "Fetching clinical trials for term: Cervical Cancer\n",
      "Error: 404\n",
      "<html>\n",
      "<head><title>404 Not Found</title></head>\n",
      "<body>\n",
      "<center><h1>404 Not Found</h1></center>\n",
      "<hr><center>nginx/1.26.2</center>\n",
      "</body>\n",
      "</html>\n",
      "\n",
      "Fetching clinical trials for term: Autoimmune Disease Women\n",
      "Error: 404\n",
      "<html>\n",
      "<head><title>404 Not Found</title></head>\n",
      "<body>\n",
      "<center><h1>404 Not Found</h1></center>\n",
      "<hr><center>nginx/1.26.2</center>\n",
      "</body>\n",
      "</html>\n",
      "\n",
      "Fetching clinical trials for term: Heart Disease Women\n",
      "Error: 404\n",
      "<html>\n",
      "<head><title>404 Not Found</title></head>\n",
      "<body>\n",
      "<center><h1>404 Not Found</h1></center>\n",
      "<hr><center>nginx/1.26.2</center>\n",
      "</body>\n",
      "</html>\n",
      "\n",
      "Fetching clinical trials for term: Fibromyalgia\n",
      "Error: 404\n",
      "<html>\n",
      "<head><title>404 Not Found</title></head>\n",
      "<body>\n",
      "<center><h1>404 Not Found</h1></center>\n",
      "<hr><center>nginx/1.26.2</center>\n",
      "</body>\n",
      "</html>\n",
      "\n",
      "Fetching clinical trials for term: Chronic Fatigue Syndrome\n",
      "Error: 404\n",
      "<html>\n",
      "<head><title>404 Not Found</title></head>\n",
      "<body>\n",
      "<center><h1>404 Not Found</h1></center>\n",
      "<hr><center>nginx/1.26.2</center>\n",
      "</body>\n",
      "</html>\n",
      "\n",
      "Fetching clinical trials for term: Thyroid Disease Women\n",
      "Error: 404\n",
      "<html>\n",
      "<head><title>404 Not Found</title></head>\n",
      "<body>\n",
      "<center><h1>404 Not Found</h1></center>\n",
      "<hr><center>nginx/1.26.2</center>\n",
      "</body>\n",
      "</html>\n",
      "\n",
      "Checkpoint saved: womens_health_data/checkpoints/clinical_trials_20250331_210449.csv\n",
      "Latest version saved: womens_health_data/checkpoints/clinical_trials_latest.csv\n"
     ]
    }
   ],
   "source": [
    "# Check if we already have clinical trials data\n",
    "clinical_trials_df = load_checkpoint(\"clinical_trials\")\n",
    "\n",
    "# If not, collect the data\n",
    "if clinical_trials_df is None:\n",
    "    # Define search terms for women's health conditions\n",
    "    search_terms = [\n",
    "        \"Endometriosis\", \"Polycystic Ovary Syndrome\", \"Uterine Fibroids\",\n",
    "        \"Pregnancy Complications\", \"Postpartum Depression\", \"Menopause\",\n",
    "        \"Osteoporosis\", \"Breast Cancer\", \"Ovarian Cancer\", \"Cervical Cancer\",\n",
    "        \"Autoimmune Disease Women\", \"Heart Disease Women\", \"Fibromyalgia\",\n",
    "        \"Chronic Fatigue Syndrome\", \"Thyroid Disease Women\"\n",
    "    ]\n",
    "    \n",
    "    # Initialize an empty list to store all studies\n",
    "    all_studies = []\n",
    "    \n",
    "    # Fetch data for each search term\n",
    "    for term in tqdm(search_terms, desc=\"Fetching clinical trials\"):\n",
    "        data = fetch_clinical_trials(term, max_results=50)  # Limit to 50 per term to avoid overloading\n",
    "        \n",
    "        if data and 'StudyFieldsResponse' in data and 'StudyFields' in data['StudyFieldsResponse']:\n",
    "            studies = data['StudyFieldsResponse']['StudyFields']\n",
    "            all_studies.extend(studies)\n",
    "            \n",
    "            # Add a small delay to avoid overwhelming the API\n",
    "            time.sleep(1)\n",
    "    \n",
    "    # Convert to DataFrame\n",
    "    clinical_trials_df = pd.json_normalize(all_studies)\n",
    "    \n",
    "    # Save checkpoint\n",
    "    save_checkpoint(clinical_trials_df, \"clinical_trials\")\n",
    "else:\n",
    "    print(\"Using existing clinical trials data\")"
   ]
  },
  {
   "cell_type": "code",
   "execution_count": 11,
   "metadata": {},
   "outputs": [
    {
     "name": "stdout",
     "output_type": "stream",
     "text": [
      "\n",
      "--- Clinical Trials Verification ---\n",
      "Shape: (0, 0)\n",
      "\n",
      "First 5 rows:\n"
     ]
    },
    {
     "data": {
      "text/html": [
       "<div>\n",
       "<style scoped>\n",
       "    .dataframe tbody tr th:only-of-type {\n",
       "        vertical-align: middle;\n",
       "    }\n",
       "\n",
       "    .dataframe tbody tr th {\n",
       "        vertical-align: top;\n",
       "    }\n",
       "\n",
       "    .dataframe thead th {\n",
       "        text-align: right;\n",
       "    }\n",
       "</style>\n",
       "<table border=\"1\" class=\"dataframe\">\n",
       "  <thead>\n",
       "    <tr style=\"text-align: right;\">\n",
       "      <th></th>\n",
       "    </tr>\n",
       "  </thead>\n",
       "  <tbody>\n",
       "  </tbody>\n",
       "</table>\n",
       "</div>"
      ],
      "text/plain": [
       "Empty DataFrame\n",
       "Columns: []\n",
       "Index: []"
      ]
     },
     "metadata": {},
     "output_type": "display_data"
    },
    {
     "name": "stdout",
     "output_type": "stream",
     "text": [
      "\n",
      "Data types:\n"
     ]
    },
    {
     "data": {
      "text/plain": [
       "Series([], dtype: object)"
      ]
     },
     "metadata": {},
     "output_type": "display_data"
    },
    {
     "name": "stdout",
     "output_type": "stream",
     "text": [
      "\n",
      "Missing values:\n"
     ]
    },
    {
     "data": {
      "text/plain": [
       "'No missing values'"
      ]
     },
     "metadata": {},
     "output_type": "display_data"
    },
    {
     "name": "stdout",
     "output_type": "stream",
     "text": [
      "\n",
      "Basic statistics:\n"
     ]
    },
    {
     "ename": "ValueError",
     "evalue": "Cannot describe a DataFrame without columns",
     "output_type": "error",
     "traceback": [
      "\u001b[0;31m---------------------------------------------------------------------------\u001b[0m",
      "\u001b[0;31mValueError\u001b[0m                                Traceback (most recent call last)",
      "Cell \u001b[0;32mIn[11], line 2\u001b[0m\n\u001b[1;32m      1\u001b[0m \u001b[38;5;66;03m# Verify the clinical trials data\u001b[39;00m\n\u001b[0;32m----> 2\u001b[0m verify_dataframe(clinical_trials_df, \u001b[38;5;124m\"\u001b[39m\u001b[38;5;124mClinical Trials\u001b[39m\u001b[38;5;124m\"\u001b[39m)\n",
      "Cell \u001b[0;32mIn[6], line 74\u001b[0m, in \u001b[0;36mverify_dataframe\u001b[0;34m(df, name)\u001b[0m\n\u001b[1;32m     72\u001b[0m display(missing[missing \u001b[38;5;241m>\u001b[39m \u001b[38;5;241m0\u001b[39m] \u001b[38;5;28;01mif\u001b[39;00m \u001b[38;5;28many\u001b[39m(missing \u001b[38;5;241m>\u001b[39m \u001b[38;5;241m0\u001b[39m) \u001b[38;5;28;01melse\u001b[39;00m \u001b[38;5;124m\"\u001b[39m\u001b[38;5;124mNo missing values\u001b[39m\u001b[38;5;124m\"\u001b[39m)\n\u001b[1;32m     73\u001b[0m \u001b[38;5;28mprint\u001b[39m(\u001b[38;5;124m\"\u001b[39m\u001b[38;5;130;01m\\n\u001b[39;00m\u001b[38;5;124mBasic statistics:\u001b[39m\u001b[38;5;124m\"\u001b[39m)\n\u001b[0;32m---> 74\u001b[0m display(df\u001b[38;5;241m.\u001b[39mdescribe(include\u001b[38;5;241m=\u001b[39m\u001b[38;5;124m'\u001b[39m\u001b[38;5;124mall\u001b[39m\u001b[38;5;124m'\u001b[39m)\u001b[38;5;241m.\u001b[39mT)\n\u001b[1;32m     75\u001b[0m \u001b[38;5;28mprint\u001b[39m(\u001b[38;5;124m\"\u001b[39m\u001b[38;5;124m----------------------------\u001b[39m\u001b[38;5;130;01m\\n\u001b[39;00m\u001b[38;5;124m\"\u001b[39m)\n",
      "File \u001b[0;32m~/anaconda3/lib/python3.11/site-packages/pandas/core/generic.py:10940\u001b[0m, in \u001b[0;36mNDFrame.describe\u001b[0;34m(self, percentiles, include, exclude, datetime_is_numeric)\u001b[0m\n\u001b[1;32m  10691\u001b[0m \u001b[38;5;129m@final\u001b[39m\n\u001b[1;32m  10692\u001b[0m \u001b[38;5;28;01mdef\u001b[39;00m \u001b[38;5;21mdescribe\u001b[39m(\n\u001b[1;32m  10693\u001b[0m     \u001b[38;5;28mself\u001b[39m: NDFrameT,\n\u001b[0;32m   (...)\u001b[0m\n\u001b[1;32m  10697\u001b[0m     datetime_is_numeric: bool_t \u001b[38;5;241m=\u001b[39m \u001b[38;5;28;01mFalse\u001b[39;00m,\n\u001b[1;32m  10698\u001b[0m ) \u001b[38;5;241m-\u001b[39m\u001b[38;5;241m>\u001b[39m NDFrameT:\n\u001b[1;32m  10699\u001b[0m \u001b[38;5;250m    \u001b[39m\u001b[38;5;124;03m\"\"\"\u001b[39;00m\n\u001b[1;32m  10700\u001b[0m \u001b[38;5;124;03m    Generate descriptive statistics.\u001b[39;00m\n\u001b[1;32m  10701\u001b[0m \n\u001b[0;32m   (...)\u001b[0m\n\u001b[1;32m  10938\u001b[0m \u001b[38;5;124;03m    max            NaN      3.0\u001b[39;00m\n\u001b[1;32m  10939\u001b[0m \u001b[38;5;124;03m    \"\"\"\u001b[39;00m\n\u001b[0;32m> 10940\u001b[0m     \u001b[38;5;28;01mreturn\u001b[39;00m describe_ndframe(\n\u001b[1;32m  10941\u001b[0m         obj\u001b[38;5;241m=\u001b[39m\u001b[38;5;28mself\u001b[39m,\n\u001b[1;32m  10942\u001b[0m         include\u001b[38;5;241m=\u001b[39minclude,\n\u001b[1;32m  10943\u001b[0m         exclude\u001b[38;5;241m=\u001b[39mexclude,\n\u001b[1;32m  10944\u001b[0m         datetime_is_numeric\u001b[38;5;241m=\u001b[39mdatetime_is_numeric,\n\u001b[1;32m  10945\u001b[0m         percentiles\u001b[38;5;241m=\u001b[39mpercentiles,\n\u001b[1;32m  10946\u001b[0m     )\n",
      "File \u001b[0;32m~/anaconda3/lib/python3.11/site-packages/pandas/core/describe.py:94\u001b[0m, in \u001b[0;36mdescribe_ndframe\u001b[0;34m(obj, include, exclude, datetime_is_numeric, percentiles)\u001b[0m\n\u001b[1;32m     89\u001b[0m     describer \u001b[38;5;241m=\u001b[39m SeriesDescriber(\n\u001b[1;32m     90\u001b[0m         obj\u001b[38;5;241m=\u001b[39mcast(\u001b[38;5;124m\"\u001b[39m\u001b[38;5;124mSeries\u001b[39m\u001b[38;5;124m\"\u001b[39m, obj),\n\u001b[1;32m     91\u001b[0m         datetime_is_numeric\u001b[38;5;241m=\u001b[39mdatetime_is_numeric,\n\u001b[1;32m     92\u001b[0m     )\n\u001b[1;32m     93\u001b[0m \u001b[38;5;28;01melse\u001b[39;00m:\n\u001b[0;32m---> 94\u001b[0m     describer \u001b[38;5;241m=\u001b[39m DataFrameDescriber(\n\u001b[1;32m     95\u001b[0m         obj\u001b[38;5;241m=\u001b[39mcast(\u001b[38;5;124m\"\u001b[39m\u001b[38;5;124mDataFrame\u001b[39m\u001b[38;5;124m\"\u001b[39m, obj),\n\u001b[1;32m     96\u001b[0m         include\u001b[38;5;241m=\u001b[39minclude,\n\u001b[1;32m     97\u001b[0m         exclude\u001b[38;5;241m=\u001b[39mexclude,\n\u001b[1;32m     98\u001b[0m         datetime_is_numeric\u001b[38;5;241m=\u001b[39mdatetime_is_numeric,\n\u001b[1;32m     99\u001b[0m     )\n\u001b[1;32m    101\u001b[0m result \u001b[38;5;241m=\u001b[39m describer\u001b[38;5;241m.\u001b[39mdescribe(percentiles\u001b[38;5;241m=\u001b[39mpercentiles)\n\u001b[1;32m    102\u001b[0m \u001b[38;5;28;01mreturn\u001b[39;00m cast(NDFrameT, result)\n",
      "File \u001b[0;32m~/anaconda3/lib/python3.11/site-packages/pandas/core/describe.py:171\u001b[0m, in \u001b[0;36mDataFrameDescriber.__init__\u001b[0;34m(self, obj, include, exclude, datetime_is_numeric)\u001b[0m\n\u001b[1;32m    168\u001b[0m \u001b[38;5;28mself\u001b[39m\u001b[38;5;241m.\u001b[39mexclude \u001b[38;5;241m=\u001b[39m exclude\n\u001b[1;32m    170\u001b[0m \u001b[38;5;28;01mif\u001b[39;00m obj\u001b[38;5;241m.\u001b[39mndim \u001b[38;5;241m==\u001b[39m \u001b[38;5;241m2\u001b[39m \u001b[38;5;129;01mand\u001b[39;00m obj\u001b[38;5;241m.\u001b[39mcolumns\u001b[38;5;241m.\u001b[39msize \u001b[38;5;241m==\u001b[39m \u001b[38;5;241m0\u001b[39m:\n\u001b[0;32m--> 171\u001b[0m     \u001b[38;5;28;01mraise\u001b[39;00m \u001b[38;5;167;01mValueError\u001b[39;00m(\u001b[38;5;124m\"\u001b[39m\u001b[38;5;124mCannot describe a DataFrame without columns\u001b[39m\u001b[38;5;124m\"\u001b[39m)\n\u001b[1;32m    173\u001b[0m \u001b[38;5;28msuper\u001b[39m()\u001b[38;5;241m.\u001b[39m\u001b[38;5;21m__init__\u001b[39m(obj, datetime_is_numeric\u001b[38;5;241m=\u001b[39mdatetime_is_numeric)\n",
      "\u001b[0;31mValueError\u001b[0m: Cannot describe a DataFrame without columns"
     ]
    }
   ],
   "source": [
    "# Verify the clinical trials data\n",
    "verify_dataframe(clinical_trials_df, \"Clinical Trials\")"
   ]
  },
  {
   "cell_type": "code",
   "execution_count": 12,
   "metadata": {},
   "outputs": [
    {
     "name": "stdout",
     "output_type": "stream",
     "text": [
      "Columns with list values: []\n",
      "Checkpoint saved: womens_health_data/checkpoints/clinical_trials_cleaned_20250331_210506.csv\n",
      "Latest version saved: womens_health_data/checkpoints/clinical_trials_cleaned_latest.csv\n"
     ]
    },
    {
     "data": {
      "text/plain": [
       "'womens_health_data/checkpoints/clinical_trials_cleaned_20250331_210506.csv'"
      ]
     },
     "execution_count": 12,
     "metadata": {},
     "output_type": "execute_result"
    }
   ],
   "source": [
    "# Clean and preprocess the clinical trials data\n",
    "# This step ensures we have consistent data for further analysis\n",
    "\n",
    "# First, let's check which columns have list values\n",
    "list_columns = [col for col in clinical_trials_df.columns if clinical_trials_df[col].apply(lambda x: isinstance(x, list)).any()]\n",
    "print(f\"Columns with list values: {list_columns}\")\n",
    "\n",
    "# For list columns, we'll join the values with a semicolon\n",
    "for col in list_columns:\n",
    "    clinical_trials_df[col] = clinical_trials_df[col].apply(lambda x: \"; \".join(x) if isinstance(x, list) else x)\n",
    "\n",
    "# Rename columns for clarity\n",
    "clinical_trials_df = clinical_trials_df.rename(columns={\n",
    "    'NCTId': 'StudyID',\n",
    "    'BriefTitle': 'Title',\n",
    "    'LeadSponsorName': 'Sponsor',\n",
    "    'EnrollmentCount': 'Enrollment',\n",
    "    'ConditionMeshTerm': 'ConditionTerms'\n",
    "})\n",
    "\n",
    "# Select only the columns we need\n",
    "selected_columns = [\n",
    "    'StudyID', 'Title', 'Condition', 'ConditionTerms', 'Gender',\n",
    "    'MinimumAge', 'MaximumAge', 'StudyType', 'Phase', 'Enrollment',\n",
    "    'StartDate', 'Sponsor', 'LocationCountry'\n",
    "]\n",
    "\n",
    "# Filter columns that exist in our dataframe\n",
    "existing_columns = [col for col in selected_columns if col in clinical_trials_df.columns]\n",
    "clinical_trials_df = clinical_trials_df[existing_columns]\n",
    "\n",
    "# Save the cleaned data\n",
    "save_checkpoint(clinical_trials_df, \"clinical_trials_cleaned\")"
   ]
  },
  {
   "cell_type": "code",
   "execution_count": 13,
   "metadata": {},
   "outputs": [
    {
     "name": "stdout",
     "output_type": "stream",
     "text": [
      "\n",
      "--- Cleaned Clinical Trials Verification ---\n",
      "Shape: (0, 0)\n",
      "\n",
      "First 5 rows:\n"
     ]
    },
    {
     "data": {
      "text/html": [
       "<div>\n",
       "<style scoped>\n",
       "    .dataframe tbody tr th:only-of-type {\n",
       "        vertical-align: middle;\n",
       "    }\n",
       "\n",
       "    .dataframe tbody tr th {\n",
       "        vertical-align: top;\n",
       "    }\n",
       "\n",
       "    .dataframe thead th {\n",
       "        text-align: right;\n",
       "    }\n",
       "</style>\n",
       "<table border=\"1\" class=\"dataframe\">\n",
       "  <thead>\n",
       "    <tr style=\"text-align: right;\">\n",
       "      <th></th>\n",
       "    </tr>\n",
       "  </thead>\n",
       "  <tbody>\n",
       "  </tbody>\n",
       "</table>\n",
       "</div>"
      ],
      "text/plain": [
       "Empty DataFrame\n",
       "Columns: []\n",
       "Index: []"
      ]
     },
     "metadata": {},
     "output_type": "display_data"
    },
    {
     "name": "stdout",
     "output_type": "stream",
     "text": [
      "\n",
      "Data types:\n"
     ]
    },
    {
     "data": {
      "text/plain": [
       "Series([], dtype: object)"
      ]
     },
     "metadata": {},
     "output_type": "display_data"
    },
    {
     "name": "stdout",
     "output_type": "stream",
     "text": [
      "\n",
      "Missing values:\n"
     ]
    },
    {
     "data": {
      "text/plain": [
       "'No missing values'"
      ]
     },
     "metadata": {},
     "output_type": "display_data"
    },
    {
     "name": "stdout",
     "output_type": "stream",
     "text": [
      "\n",
      "Basic statistics:\n"
     ]
    },
    {
     "ename": "ValueError",
     "evalue": "Cannot describe a DataFrame without columns",
     "output_type": "error",
     "traceback": [
      "\u001b[0;31m---------------------------------------------------------------------------\u001b[0m",
      "\u001b[0;31mValueError\u001b[0m                                Traceback (most recent call last)",
      "Cell \u001b[0;32mIn[13], line 2\u001b[0m\n\u001b[1;32m      1\u001b[0m \u001b[38;5;66;03m# Verify the cleaned clinical trials data\u001b[39;00m\n\u001b[0;32m----> 2\u001b[0m verify_dataframe(clinical_trials_df, \u001b[38;5;124m\"\u001b[39m\u001b[38;5;124mCleaned Clinical Trials\u001b[39m\u001b[38;5;124m\"\u001b[39m)\n",
      "Cell \u001b[0;32mIn[6], line 74\u001b[0m, in \u001b[0;36mverify_dataframe\u001b[0;34m(df, name)\u001b[0m\n\u001b[1;32m     72\u001b[0m display(missing[missing \u001b[38;5;241m>\u001b[39m \u001b[38;5;241m0\u001b[39m] \u001b[38;5;28;01mif\u001b[39;00m \u001b[38;5;28many\u001b[39m(missing \u001b[38;5;241m>\u001b[39m \u001b[38;5;241m0\u001b[39m) \u001b[38;5;28;01melse\u001b[39;00m \u001b[38;5;124m\"\u001b[39m\u001b[38;5;124mNo missing values\u001b[39m\u001b[38;5;124m\"\u001b[39m)\n\u001b[1;32m     73\u001b[0m \u001b[38;5;28mprint\u001b[39m(\u001b[38;5;124m\"\u001b[39m\u001b[38;5;130;01m\\n\u001b[39;00m\u001b[38;5;124mBasic statistics:\u001b[39m\u001b[38;5;124m\"\u001b[39m)\n\u001b[0;32m---> 74\u001b[0m display(df\u001b[38;5;241m.\u001b[39mdescribe(include\u001b[38;5;241m=\u001b[39m\u001b[38;5;124m'\u001b[39m\u001b[38;5;124mall\u001b[39m\u001b[38;5;124m'\u001b[39m)\u001b[38;5;241m.\u001b[39mT)\n\u001b[1;32m     75\u001b[0m \u001b[38;5;28mprint\u001b[39m(\u001b[38;5;124m\"\u001b[39m\u001b[38;5;124m----------------------------\u001b[39m\u001b[38;5;130;01m\\n\u001b[39;00m\u001b[38;5;124m\"\u001b[39m)\n",
      "File \u001b[0;32m~/anaconda3/lib/python3.11/site-packages/pandas/core/generic.py:10940\u001b[0m, in \u001b[0;36mNDFrame.describe\u001b[0;34m(self, percentiles, include, exclude, datetime_is_numeric)\u001b[0m\n\u001b[1;32m  10691\u001b[0m \u001b[38;5;129m@final\u001b[39m\n\u001b[1;32m  10692\u001b[0m \u001b[38;5;28;01mdef\u001b[39;00m \u001b[38;5;21mdescribe\u001b[39m(\n\u001b[1;32m  10693\u001b[0m     \u001b[38;5;28mself\u001b[39m: NDFrameT,\n\u001b[0;32m   (...)\u001b[0m\n\u001b[1;32m  10697\u001b[0m     datetime_is_numeric: bool_t \u001b[38;5;241m=\u001b[39m \u001b[38;5;28;01mFalse\u001b[39;00m,\n\u001b[1;32m  10698\u001b[0m ) \u001b[38;5;241m-\u001b[39m\u001b[38;5;241m>\u001b[39m NDFrameT:\n\u001b[1;32m  10699\u001b[0m \u001b[38;5;250m    \u001b[39m\u001b[38;5;124;03m\"\"\"\u001b[39;00m\n\u001b[1;32m  10700\u001b[0m \u001b[38;5;124;03m    Generate descriptive statistics.\u001b[39;00m\n\u001b[1;32m  10701\u001b[0m \n\u001b[0;32m   (...)\u001b[0m\n\u001b[1;32m  10938\u001b[0m \u001b[38;5;124;03m    max            NaN      3.0\u001b[39;00m\n\u001b[1;32m  10939\u001b[0m \u001b[38;5;124;03m    \"\"\"\u001b[39;00m\n\u001b[0;32m> 10940\u001b[0m     \u001b[38;5;28;01mreturn\u001b[39;00m describe_ndframe(\n\u001b[1;32m  10941\u001b[0m         obj\u001b[38;5;241m=\u001b[39m\u001b[38;5;28mself\u001b[39m,\n\u001b[1;32m  10942\u001b[0m         include\u001b[38;5;241m=\u001b[39minclude,\n\u001b[1;32m  10943\u001b[0m         exclude\u001b[38;5;241m=\u001b[39mexclude,\n\u001b[1;32m  10944\u001b[0m         datetime_is_numeric\u001b[38;5;241m=\u001b[39mdatetime_is_numeric,\n\u001b[1;32m  10945\u001b[0m         percentiles\u001b[38;5;241m=\u001b[39mpercentiles,\n\u001b[1;32m  10946\u001b[0m     )\n",
      "File \u001b[0;32m~/anaconda3/lib/python3.11/site-packages/pandas/core/describe.py:94\u001b[0m, in \u001b[0;36mdescribe_ndframe\u001b[0;34m(obj, include, exclude, datetime_is_numeric, percentiles)\u001b[0m\n\u001b[1;32m     89\u001b[0m     describer \u001b[38;5;241m=\u001b[39m SeriesDescriber(\n\u001b[1;32m     90\u001b[0m         obj\u001b[38;5;241m=\u001b[39mcast(\u001b[38;5;124m\"\u001b[39m\u001b[38;5;124mSeries\u001b[39m\u001b[38;5;124m\"\u001b[39m, obj),\n\u001b[1;32m     91\u001b[0m         datetime_is_numeric\u001b[38;5;241m=\u001b[39mdatetime_is_numeric,\n\u001b[1;32m     92\u001b[0m     )\n\u001b[1;32m     93\u001b[0m \u001b[38;5;28;01melse\u001b[39;00m:\n\u001b[0;32m---> 94\u001b[0m     describer \u001b[38;5;241m=\u001b[39m DataFrameDescriber(\n\u001b[1;32m     95\u001b[0m         obj\u001b[38;5;241m=\u001b[39mcast(\u001b[38;5;124m\"\u001b[39m\u001b[38;5;124mDataFrame\u001b[39m\u001b[38;5;124m\"\u001b[39m, obj),\n\u001b[1;32m     96\u001b[0m         include\u001b[38;5;241m=\u001b[39minclude,\n\u001b[1;32m     97\u001b[0m         exclude\u001b[38;5;241m=\u001b[39mexclude,\n\u001b[1;32m     98\u001b[0m         datetime_is_numeric\u001b[38;5;241m=\u001b[39mdatetime_is_numeric,\n\u001b[1;32m     99\u001b[0m     )\n\u001b[1;32m    101\u001b[0m result \u001b[38;5;241m=\u001b[39m describer\u001b[38;5;241m.\u001b[39mdescribe(percentiles\u001b[38;5;241m=\u001b[39mpercentiles)\n\u001b[1;32m    102\u001b[0m \u001b[38;5;28;01mreturn\u001b[39;00m cast(NDFrameT, result)\n",
      "File \u001b[0;32m~/anaconda3/lib/python3.11/site-packages/pandas/core/describe.py:171\u001b[0m, in \u001b[0;36mDataFrameDescriber.__init__\u001b[0;34m(self, obj, include, exclude, datetime_is_numeric)\u001b[0m\n\u001b[1;32m    168\u001b[0m \u001b[38;5;28mself\u001b[39m\u001b[38;5;241m.\u001b[39mexclude \u001b[38;5;241m=\u001b[39m exclude\n\u001b[1;32m    170\u001b[0m \u001b[38;5;28;01mif\u001b[39;00m obj\u001b[38;5;241m.\u001b[39mndim \u001b[38;5;241m==\u001b[39m \u001b[38;5;241m2\u001b[39m \u001b[38;5;129;01mand\u001b[39;00m obj\u001b[38;5;241m.\u001b[39mcolumns\u001b[38;5;241m.\u001b[39msize \u001b[38;5;241m==\u001b[39m \u001b[38;5;241m0\u001b[39m:\n\u001b[0;32m--> 171\u001b[0m     \u001b[38;5;28;01mraise\u001b[39;00m \u001b[38;5;167;01mValueError\u001b[39;00m(\u001b[38;5;124m\"\u001b[39m\u001b[38;5;124mCannot describe a DataFrame without columns\u001b[39m\u001b[38;5;124m\"\u001b[39m)\n\u001b[1;32m    173\u001b[0m \u001b[38;5;28msuper\u001b[39m()\u001b[38;5;241m.\u001b[39m\u001b[38;5;21m__init__\u001b[39m(obj, datetime_is_numeric\u001b[38;5;241m=\u001b[39mdatetime_is_numeric)\n",
      "\u001b[0;31mValueError\u001b[0m: Cannot describe a DataFrame without columns"
     ]
    }
   ],
   "source": [
    "# Verify the cleaned clinical trials data\n",
    "verify_dataframe(clinical_trials_df, \"Cleaned Clinical Trials\")"
   ]
  },
  {
   "cell_type": "markdown",
   "metadata": {},
   "source": [
    "## 4. Data Collection from PubMed\n",
    "\n",
    "PubMed is a database of biomedical literature. We'll use their API to collect research papers on women's health topics, particularly focusing on medical dismissal."
   ]
  },
  {
   "cell_type": "code",
   "execution_count": 14,
   "metadata": {},
   "outputs": [],
   "source": [
    "def fetch_pubmed_data(term, max_results=100):\n",
    "    \"\"\"\n",
    "    Fetch publication data from PubMed API.\n",
    "    \n",
    "    Parameters:\n",
    "    - term: search term\n",
    "    - max_results: maximum number of results to return\n",
    "    \n",
    "    Returns:\n",
    "    - data: list of publication data\n",
    "    \"\"\"\n",
    "    # Base URLs for PubMed API (E-utilities)\n",
    "    esearch_url = \"https://eutils.ncbi.nlm.nih.gov/entrez/eutils/esearch.fcgi\"\n",
    "    esummary_url = \"https://eutils.ncbi.nlm.nih.gov/entrez/eutils/esummary.fcgi\"\n",
    "    \n",
    "    # Step 1: Search for IDs\n",
    "    search_params = {\n",
    "        \"db\": \"pubmed\",\n",
    "        \"term\": term,\n",
    "        \"retmax\": max_results,\n",
    "        \"retmode\": \"json\",\n",
    "        \"sort\": \"relevance\"\n",
    "    }\n",
    "    \n",
    "    print(f\"Searching PubMed for term: {term}\")\n",
    "    search_response = requests.get(esearch_url, params=search_params)\n",
    "    \n",
    "    if search_response.status_code != 200:\n",
    "        print(f\"Error in search: {search_response.status_code}\")\n",
    "        return []\n",
    "    \n",
    "    search_data = search_response.json()\n",
    "    id_list = search_data['esearchresult']['idlist']\n",
    "    \n",
    "    if not id_list:\n",
    "        print(\"No results found\")\n",
    "        return []\n",
    "    \n",
    "    print(f\"Found {len(id_list)} results\")\n",
    "    \n",
    "    # Step 2: Get summaries for the IDs\n",
    "    summary_params = {\n",
    "        \"db\": \"pubmed\",\n",
    "        \"id\": \",\".join(id_list),\n",
    "        \"retmode\": \"json\"\n",
    "    }\n",
    "    \n",
    "    summary_response = requests.get(esummary_url, params=summary_params)\n",
    "    \n",
    "    if summary_response.status_code != 200:\n",
    "        print(f\"Error in summary: {summary_response.status_code}\")\n",
    "        return []\n",
    "    \n",
    "    summary_data = summary_response.json()\n",
    "    \n",
    "    # Extract relevant information\n",
    "    publications = []\n",
    "    for article_id in id_list:\n",
    "        if article_id in summary_data['result']:\n",
    "            article = summary_data['result'][article_id]\n",
    "            \n",
    "            # Extract authors\n",
    "            authors = []\n",
    "            if 'authors' in article and article['authors']:\n",
    "                authors = [author['name'] for author in article['authors'] if 'name' in author]\n",
    "            \n",
    "            # Create publication record\n",
    "            publication = {\n",
    "                'PMID': article_id,\n",
    "                'Title': article.get('title', ''),\n",
    "                'Authors': '; '.join(authors),\n",
    "                'Journal': article.get('fulljournalname', ''),\n",
    "                'PubDate': article.get('pubdate', ''),\n",
    "                'SearchTerm': term\n",
    "            }\n",
    "            \n",
    "            publications.append(publication)\n",
    "    \n",
    "    return publications"
   ]
  },
  {
   "cell_type": "code",
   "execution_count": 15,
   "metadata": {},
   "outputs": [
    {
     "name": "stdout",
     "output_type": "stream",
     "text": [
      "Checkpoint not found or empty: womens_health_data/checkpoints/pubmed_latest.csv\n"
     ]
    },
    {
     "data": {
      "application/vnd.jupyter.widget-view+json": {
       "model_id": "26e6f1f0eecf41acbca72423a4acd3a5",
       "version_major": 2,
       "version_minor": 0
      },
      "text/plain": [
       "Fetching PubMed data:   0%|          | 0/10 [00:00<?, ?it/s]"
      ]
     },
     "metadata": {},
     "output_type": "display_data"
    },
    {
     "name": "stdout",
     "output_type": "stream",
     "text": [
      "Searching PubMed for term: women health medical dismissal\n",
      "Found 30 results\n",
      "Searching PubMed for term: gender bias healthcare\n",
      "Found 30 results\n",
      "Searching PubMed for term: women pain dismissal\n",
      "Found 30 results\n",
      "Searching PubMed for term: endometriosis diagnosis delay\n",
      "Found 30 results\n",
      "Searching PubMed for term: women autoimmune disease diagnosis\n",
      "Found 30 results\n",
      "Searching PubMed for term: women heart disease symptoms\n",
      "Found 30 results\n",
      "Searching PubMed for term: women chronic fatigue diagnosis\n",
      "Found 30 results\n",
      "Searching PubMed for term: women fibromyalgia diagnosis\n",
      "Found 30 results\n",
      "Searching PubMed for term: women medical gaslighting\n",
      "Found 16 results\n",
      "Searching PubMed for term: women healthcare communication\n",
      "Found 30 results\n",
      "Checkpoint saved: womens_health_data/checkpoints/pubmed_20250331_210533.csv\n",
      "Latest version saved: womens_health_data/checkpoints/pubmed_latest.csv\n"
     ]
    }
   ],
   "source": [
    "# Check if we already have PubMed data\n",
    "pubmed_df = load_checkpoint(\"pubmed\")\n",
    "\n",
    "# If not, collect the data\n",
    "if pubmed_df is None:\n",
    "    # Define search terms focusing on women's health and medical dismissal\n",
    "    search_terms = [\n",
    "        \"women health medical dismissal\",\n",
    "        \"gender bias healthcare\",\n",
    "        \"women pain dismissal\",\n",
    "        \"endometriosis diagnosis delay\",\n",
    "        \"women autoimmune disease diagnosis\",\n",
    "        \"women heart disease symptoms\",\n",
    "        \"women chronic fatigue diagnosis\",\n",
    "        \"women fibromyalgia diagnosis\",\n",
    "        \"women medical gaslighting\",\n",
    "        \"women healthcare communication\"\n",
    "    ]\n",
    "    \n",
    "    # Initialize an empty list to store all publications\n",
    "    all_publications = []\n",
    "    \n",
    "    # Fetch data for each search term\n",
    "    for term in tqdm(search_terms, desc=\"Fetching PubMed data\"):\n",
    "        publications = fetch_pubmed_data(term, max_results=30)  # Limit to 30 per term\n",
    "        all_publications.extend(publications)\n",
    "        \n",
    "        # Add a small delay to avoid overwhelming the API\n",
    "        time.sleep(1)\n",
    "    \n",
    "    # Convert to DataFrame\n",
    "    pubmed_df = pd.DataFrame(all_publications)\n",
    "    \n",
    "    # Remove duplicates based on PMID\n",
    "    pubmed_df = pubmed_df.drop_duplicates(subset=['PMID'])\n",
    "    \n",
    "    # Save checkpoint\n",
    "    save_checkpoint(pubmed_df, \"pubmed\")\n",
    "else:\n",
    "    print(\"Using existing PubMed data\")"
   ]
  },
  {
   "cell_type": "code",
   "execution_count": null,
   "metadata": {},
   "outputs": [],
   "source": [
    "# Verify the PubMed data\n",
    "verify_dataframe(pubmed_df, \"PubMed Publications\")"
   ]
  },
  {
   "cell_type": "code",
   "execution_count": null,
   "metadata": {},
   "outputs": [],
   "source": [
    "# Clean and preprocess the PubMed data\n",
    "\n",
    "# Extract year from PubDate\n",
    "pubmed_df['Year'] = pubmed_df['PubDate'].str.extract(r'(\\d{4})')\n",
    "\n",
    "# Convert Year to numeric\n",
    "pubmed_df['Year'] = pd.to_numeric(pubmed_df['Year'], errors='coerce')\n",
    "\n",
    "# Fill missing years with the median year\n",
    "median_year = pubmed_df['Year'].median()\n",
    "pubmed_df['Year'] = pubmed_df['Year'].fillna(median_year)\n",
    "\n",
    "# Create a URL column for PubMed links\n",
    "pubmed_df['URL'] = 'https://pubmed.ncbi.nlm.nih.gov/' + pubmed_df['PMID']\n",
    "\n",
    "# Save the cleaned data\n",
    "save_checkpoint(pubmed_df, \"pubmed_cleaned\")"
   ]
  },
  {
   "cell_type": "code",
   "execution_count": null,
   "metadata": {},
   "outputs": [],
   "source": [
    "# Verify the cleaned PubMed data\n",
    "verify_dataframe(pubmed_df, \"Cleaned PubMed Publications\")"
   ]
  },
  {
   "cell_type": "markdown",
   "metadata": {},
   "source": [
    "## 5. Creating a Dataset of Dismissed Questions\n",
    "\n",
    "Now we'll create a structured dataset of commonly dismissed women's health questions and their better alternatives. This is the core data that will be used to train our LLM model."
   ]
  },
  {
   "cell_type": "code",
   "execution_count": null,
   "metadata": {},
   "outputs": [],
   "source": [
    "# Check if we already have dismissed questions data\n",
    "dismissed_questions_df = load_checkpoint(\"dismissed_questions\")\n",
    "\n",
    "# If not, create the dataset\n",
    "if dismissed_questions_df is None:\n",
    "    # Create a structured dataset of dismissed questions and better alternatives\n",
    "    dismissed_questions_data = [\n",
    "        {\n",
    "            \"DismissedQuestion\": \"I'm tired all the time.\",\n",
    "            \"BetterQuestion\": \"I've been experiencing extreme fatigue for the past 3 months, even after 8 hours of sleep. It's affecting my ability to work. Could this be related to my thyroid condition?\",\n",
    "            \"Condition\": \"Chronic Fatigue Syndrome\",\n",
    "            \"Category\": \"Chronic Pain/Fatigue\",\n",
    "            \"DismissalFrequency\": \"Very High\",\n",
    "            \"DiagnosisDelay\": 5.2,\n",
    "            \"AgeGroup\": \"35-44\",\n",
    "            \"RacialEthnicConsiderations\": \"White/Caucasian\"\n",
    "        },\n",
    "        {\n",
    "            \"DismissedQuestion\": \"My periods are really painful.\",\n",
    "            \"BetterQuestion\": \"My menstrual pain is so severe that I miss work for 2-3 days each month. Over-the-counter pain medications don't help, and I often vomit from the pain. Could this be endometriosis?\",\n",
    "            \"Condition\": \"Endometriosis\",\n",
    "            \"Category\": \"Reproductive Health\",\n",
    "            \"DismissalFrequency\": \"Very High\",\n",
    "            \"DiagnosisDelay\": 7.5,\n",
    "            \"AgeGroup\": \"25-34\",\n",
    "            \"RacialEthnicConsiderations\": \"Black/African American\"\n",
    "        },\n",
    "        {\n",
    "            \"DismissedQuestion\": \"I have headaches a lot.\",\n",
    "            \"BetterQuestion\": \"I experience throbbing headaches with visual aura 3-4 times per month, typically around my menstrual cycle. They last 24-48 hours and are accompanied by nausea and sensitivity to light. How can we determine if these are hormonal migraines?\",\n",
    "            \"Condition\": \"Migraine\",\n",
    "            \"Category\": \"Chronic Pain/Fatigue\",\n",
    "            \"DismissalFrequency\": \"High\",\n",
    "            \"DiagnosisDelay\": 3.6,\n",
    "            \"AgeGroup\": \"25-34\",\n",
    "            \"RacialEthnicConsiderations\": \"Hispanic/Latina\"\n",
    "        },\n",
    "        {\n",
    "            \"DismissedQuestion\": \"I'm gaining weight for no reason.\",\n",
    "            \"BetterQuestion\": \"I've gained 20 pounds in the last 6 months despite no changes to my diet or exercise routine. I'm also experiencing hair loss, fatigue, and feeling cold all the time. Could this be a thyroid issue?\",\n",
    "            \"Condition\": \"Hashimoto's Thyroiditis\",\n",
    "            \"Category\": \"Autoimmune Conditions\",\n",
    "            \"DismissalFrequency\": \"High\",\n",
    "            \"DiagnosisDelay\": 4.8,\n",
    "            \"AgeGroup\": \"45-54\",\n",
    "            \"RacialEthnicConsiderations\": \"Asian\"\n",
    "        },\n",
    "        {\n",
    "            \"DismissedQuestion\": \"My joints hurt.\",\n",
    "            \"BetterQuestion\": \"I have symmetric joint pain and stiffness in my hands, wrists, and knees that's worst in the morning and lasts for more than an hour. I also feel fatigued and occasionally feverish. My mother had rheumatoid arthritis. Should I be tested for autoimmune conditions?\",\n",
    "            \"Condition\": \"Rheumatoid Arthritis\",\n",
    "            \"Category\": \"Autoimmune Conditions\",\n",
    "            \"DismissalFrequency\": \"Medium\",\n",
    "            \"DiagnosisDelay\": 4.3,\n",
    "            \"AgeGroup\": \"55-64\",\n",
    "            \"RacialEthnicConsiderations\": \"Native American/Alaska Native\"\n",
    "        },\n",
    "        {\n",
    "            \"DismissedQuestion\": \"I'm having hot flashes.\",\n",
    "            \"BetterQuestion\": \"I'm 48 and experiencing intense hot flashes 8-10 times daily, along with night sweats that disrupt my sleep. My periods have become irregular over the past year. What treatment options are available for perimenopause symptoms that are this severe?\",\n",
    "            \"Condition\": \"Perimenopause\",\n",
    "            \"Category\": \"Menopause/Aging\",\n",
    "            \"DismissalFrequency\": \"Medium\",\n",
    "            \"DiagnosisDelay\": 2.1,\n",
    "            \"AgeGroup\": \"45-54\",\n",
    "            \"RacialEthnicConsiderations\": \"White/Caucasian\"\n",
    "        },\n",
    "        {\n",
    "            \"DismissedQuestion\": \"I feel sad after having my baby.\",\n",
    "            \"BetterQuestion\": \"I gave birth 6 weeks ago and have been experiencing persistent feelings of hopelessness, difficulty bonding with my baby, and thoughts of harming myself. I'm sleeping only 2-3 hours a night even when the baby is sleeping. Is this postpartum depression requiring immediate treatment?\",\n",
    "            \"Condition\": \"Postpartum Depression\",\n",
    "            \"Category\": \"Pregnancy/Postpartum\",\n",
    "            \"DismissalFrequency\": \"High\",\n",
    "            \"DiagnosisDelay\": 3.7,\n",
    "            \"AgeGroup\": \"25-34\",\n",
    "            \"RacialEthnicConsiderations\": \"Black/African American\"\n",
    "        },\n",
    "        {\n",
    "            \"DismissedQuestion\": \"Sex is painful.\",\n",
    "            \"BetterQuestion\": \"I experience a burning, tearing pain at the entrance of my vagina during penetration that continues throughout intercourse. This has been happening for 6 months and is affecting my relationship. Could this be vulvodynia or another condition requiring specialized treatment?\",\n",
    "            \"Condition\": \"Vulvodynia\",\n",
    "            \"Category\": \"Sexual Health\",\n",
    "            \"DismissalFrequency\": \"Very High\",\n",
    "            \"DiagnosisDelay\": 6.4,\n",
    "            \"AgeGroup\": \"35-44\",\n",
    "            \"RacialEthnicConsiderations\": \"Hispanic/Latina\"\n",
    "        },\n",
    "        {\n",
    "            \"DismissedQuestion\": \"I have chest pain sometimes.\",\n",
    "            \"BetterQuestion\": \"I'm experiencing chest tightness and shortness of breath during physical activity, along with unusual fatigue. The discomfort radiates to my jaw and left arm. I'm 58 with a family history of heart disease. Given that heart attack symptoms can be different in women, should I be evaluated for cardiovascular disease?\",\n",
    "            \"Condition\": \"Coronary Artery Disease\",\n",
    "            \"Category\": \"Cardiovascular Health\",\n",
    "            \"DismissalFrequency\": \"High\",\n",
    "            \"DiagnosisDelay\": 5.0,\n",
    "            \"AgeGroup\": \"55-64\",\n",
    "            \"RacialEthnicConsiderations\": \"Black/African American\"\n",
    "        },\n",
    "        {\n",
    "            \"DismissedQuestion\": \"I have stomach problems.\",\n",
    "            \"BetterQuestion\": \"I've been experiencing severe abdominal pain, bloating, and alternating constipation and diarrhea for over 6 months. The pain is often worse after eating and during my period. I've lost 10 pounds unintentionally. Could this be irritable bowel syndrome, endometriosis affecting my bowels, or something else that requires investigation?\",\n",
    "            \"Condition\": \"Irritable Bowel Syndrome\",\n",
    "            \"Category\": \"Chronic Pain/Fatigue\",\n",
    "            \"DismissalFrequency\": \"Medium\",\n",
    "            \"DiagnosisDelay\": 3.8,\n",
    "            \"AgeGroup\": \"35-44\",\n",
    "            \"RacialEthnicConsiderations\": \"Asian\"\n",
    "        }\n",
    "    ]\n",
    "    \n",
    "    # Convert to DataFrame\n",
    "    dismissed_questions_df = pd.DataFrame(dismissed_questions_data)\n",
    "    \n",
    "    # Save checkpoint\n",
    "    save_checkpoint(dismissed_questions_df, \"dismissed_questions\")\n",
    "else:\n",
    "    print(\"Using existing dismissed questions data\")"
   ]
  },
  {
   "cell_type": "code",
   "execution_count": null,
   "metadata": {},
   "outputs": [],
   "source": [
    "# Verify the dismissed questions data\n",
    "verify_dataframe(dismissed_questions_df, \"Dismissed Questions\")"
   ]
  },
  {
   "cell_type": "markdown",
   "metadata": {},
   "source": [
    "## 6. Creating a Medical Terminology Dataset\n",
    "\n",
    "To help our LLM model understand medical terminology, we'll create a dataset of medical terms with plain language explanations."
   ]
  },
  {
   "cell_type": "code",
   "execution_count": null,
   "metadata": {},
   "outputs": [],
   "source": [
    "# Check if we already have medical terminology data\n",
    "medical_terminology_df = load_checkpoint(\"medical_terminology\")\n",
    "\n",
    "# If not, create the dataset\n",
    "if medical_terminology_df is None:\n",
    "    # Create a dataset of medical terms with plain language explanations\n",
    "    medical_terminology_data = [\n",
    "        {\n",
    "            \"Term\": \"Endometriosis\",\n",
    "            \"Definition\": \"A condition where tissue similar to the lining of the uterus grows outside the uterus.\",\n",
    "            \"PlainLanguage\": \"Tissue that normally lines the inside of your uterus grows outside of it, causing pain and other symptoms.\",\n",
    "            \"Category\": \"Reproductive Health\"\n",
    "        },\n",
    "        {\n",
    "            \"Term\": \"Fibromyalgia\",\n",
    "            \"Definition\": \"A disorder characterized by widespread musculoskeletal pain accompanied by fatigue, sleep, memory and mood issues.\",\n",
    "            \"PlainLanguage\": \"A condition that causes pain all over the body, along with tiredness, sleep problems, and sometimes emotional and mental distress.\",\n",
    "            \"Category\": \"Chronic Pain/Fatigue\"\n",
    "        },\n",
    "        {\n",
    "            \"Term\": \"Hypothyroidism\",\n",
    "            \"Definition\": \"A condition in which the thyroid gland doesn't produce enough thyroid hormone.\",\n",
    "            \"PlainLanguage\": \"When your thyroid gland doesn't make enough of certain important hormones, causing symptoms like fatigue and weight gain.\",\n",
    "            \"Category\": \"Autoimmune Conditions\"\n",
    "        },\n",
    "        {\n",
    "            \"Term\": \"Polycystic Ovary Syndrome\",\n",
    "            \"Definition\": \"A hormonal disorder causing enlarged ovaries with small cysts on the outer edges.\",\n",
    "            \"PlainLanguage\": \"A condition where a woman's hormones are out of balance, often causing irregular periods, excess hair growth, and small cysts on the ovaries.\",\n",
    "            \"Category\": \"Reproductive Health\"\n",
    "        },\n",
    "        {\n",
    "            \"Term\": \"Vulvodynia\",\n",
    "            \"Definition\": \"Chronic pain or discomfort around the opening of the vagina (vulva) for which there is no identifiable cause.\",\n",
    "            \"PlainLanguage\": \"Ongoing pain in the area around the opening of the vagina without a clear cause.\",\n",
    "            \"Category\": \"Sexual Health\"\n",
    "        },\n",
    "        {\n",
    "            \"Term\": \"Perimenopause\",\n",
    "            \"Definition\": \"The transition period before menopause when the ovaries gradually begin to make less estrogen.\",\n",
    "            \"PlainLanguage\": \"The time leading up to menopause when your body starts producing less estrogen, causing changes in your periods and other symptoms.\",\n",
    "            \"Category\": \"Menopause/Aging\"\n",
    "        },\n",
    "        {\n",
    "            \"Term\": \"Postpartum Depression\",\n",
    "            \"Definition\": \"A mood disorder that can affect women after childbirth, characterized by feelings of extreme sadness, anxiety, and exhaustion.\",\n",
    "            \"PlainLanguage\": \"Depression that happens after having a baby, causing feelings of extreme sadness, worry, and tiredness.\",\n",
    "            \"Category\": \"Pregnancy/Postpartum\"\n",
    "        },\n",
    "        {\n",
    "            \"Term\": \"Microvascular Coronary Dysfunction\",\n",
    "            \"Definition\": \"A disease affecting the small coronary artery blood vessels, more common in women than men.\",\n",
    "            \"PlainLanguage\": \"A heart condition where the small blood vessels in the heart don't work properly, often causing chest pain. It's more common in women.\",\n",
    "            \"Category\": \"Cardiovascular Health\"\n",
    "        },\n",
    "        {\n",
    "            \"Term\": \"Hashimoto's Thyroiditis\",\n",
    "            \"Definition\": \"An autoimmune disorder in which the immune system attacks the thyroid, often leading to hypothyroidism.\",\n",
    "            \"PlainLanguage\": \"A condition where your immune system attacks your thyroid gland, usually causing it to become underactive.\",\n",
    "            \"Category\": \"Autoimmune Conditions\"\n",
    "        },\n",
    "        {\n",
    "            \"Term\": \"Adenomyosis\",\n",
    "            \"Definition\": \"A condition in which the tissue that normally lines the uterus grows into the muscular wall of the uterus.\",\n",
    "            \"PlainLanguage\": \"A condition where the tissue that normally lines your uterus grows into the muscle wall, causing pain and heavy periods.\",\n",
    "            \"Category\": \"Reproductive Health\"\n",
    "        }\n",
    "    ]\n",
    "    \n",
    "    # Convert to DataFrame\n",
    "    medical_terminology_df = pd.DataFrame(medical_terminology_data)\n",
    "    \n",
    "    # Save checkpoint\n",
    "    save_checkpoint(medical_terminology_df, \"medical_terminology\")\n",
    "else:\n",
    "    print(\"Using existing medical terminology data\")"
   ]
  },
  {
   "cell_type": "code",
   "execution_count": null,
   "metadata": {},
   "outputs": [],
   "source": [
    "# Verify the medical terminology data\n",
    "verify_dataframe(medical_terminology_df, \"Medical Terminology\")"
   ]
  },
  {
   "cell_type": "markdown",
   "metadata": {},
   "source": [
    "## 7. Data Collection Summary\n",
    "\n",
    "Let's summarize the data we've collected and prepare it for the next notebook in the series."
   ]
  },
  {
   "cell_type": "code",
   "execution_count": null,
   "metadata": {},
   "outputs": [],
   "source": [
    "# Create a summary of the collected data\n",
    "data_summary = {\n",
    "    \"clinical_trials\": {\n",
    "        \"count\": len(clinical_trials_df),\n",
    "        \"columns\": list(clinical_trials_df.columns),\n",
    "        \"conditions\": clinical_trials_df['Condition'].nunique() if 'Condition' in clinical_trials_df.columns else 0\n",
    "    },\n",
    "    \"pubmed\": {\n",
    "        \"count\": len(pubmed_df),\n",
    "        \"columns\": list(pubmed_df.columns),\n",
    "        \"search_terms\": pubmed_df['SearchTerm'].nunique() if 'SearchTerm' in pubmed_df.columns else 0\n",
    "    },\n",
    "    \"dismissed_questions\": {\n",
    "        \"count\": len(dismissed_questions_df),\n",
    "        \"columns\": list(dismissed_questions_df.columns),\n",
    "        \"conditions\": dismissed_questions_df['Condition'].nunique() if 'Condition' in dismissed_questions_df.columns else 0,\n",
    "        \"categories\": dismissed_questions_df['Category'].nunique() if 'Category' in dismissed_questions_df.columns else 0\n",
    "    },\n",
    "    \"medical_terminology\": {\n",
    "        \"count\": len(medical_terminology_df),\n",
    "        \"columns\": list(medical_terminology_df.columns),\n",
    "        \"categories\": medical_terminology_df['Category'].nunique() if 'Category' in medical_terminology_df.columns else 0\n",
    "    }\n",
    "}\n",
    "\n",
    "# Save the summary as JSON\n",
    "with open(os.path.join(data_dir, 'data_collection_summary.json'), 'w') as f:\n",
    "    json.dump(data_summary, f, indent=2)\n",
    "\n",
    "print(\"Data collection summary saved to:\", os.path.join(data_dir, 'data_collection_summary.json'))"
   ]
  },
  {
   "cell_type": "code",
   "execution_count": null,
   "metadata": {},
   "outputs": [],
   "source": [
    "# Display the summary\n",
    "print(\"\\n--- Data Collection Summary ---\")\n",
    "print(f\"Clinical Trials: {data_summary['clinical_trials']['count']} records\")\n",
    "print(f\"PubMed Publications: {data_summary['pubmed']['count']} records\")\n",
    "print(f\"Dismissed Questions: {data_summary['dismissed_questions']['count']} records\")\n",
    "print(f\"Medical Terminology: {data_summary['medical_terminology']['count']} records\")\n",
    "print(\"\\nTotal Records Collected:\", \n",
    "      data_summary['clinical_trials']['count'] + \n",
    "      data_summary['pubmed']['count'] + \n",
    "      data_summary['dismissed_questions']['count'] + \n",
    "      data_summary['medical_terminology']['count'])"
   ]
  },
  {
   "cell_type": "markdown",
   "metadata": {},
   "source": [
    "## 8. Visualize Data Collection Results\n",
    "\n",
    "Let's create some visualizations to better understand the data we've collected."
   ]
  },
  {
   "cell_type": "code",
   "execution_count": null,
   "metadata": {},
   "outputs": [],
   "source": [
    "# Create a bar chart of the number of records by data source\n",
    "sources = ['Clinical Trials', 'PubMed Publications', 'Dismissed Questions', 'Medical Terminology']\n",
    "counts = [\n",
    "    data_summary['clinical_trials']['count'],\n",
    "    data_summary['pubmed']['count'],\n",
    "    data_summary['dismissed_questions']['count'],\n",
    "    data_summary['medical_terminology']['count']\n",
    "]\n",
    "\n",
    "plt.figure(figsize=(10, 6))\n",
    "bars = plt.bar(sources, counts, color=['#1f77b4', '#ff7f0e', '#2ca02c', '#d62728'])\n",
    "plt.title('Number of Records by Data Source', fontsize=16)\n",
    "plt.xlabel('Data Source', fontsize=12)\n",
    "plt.ylabel('Number of Records', fontsize=12)\n",
    "plt.xticks(rotation=45, ha='right')\n",
    "plt.grid(axis='y', linestyle='--', alpha=0.7)\n",
    "\n",
    "# Add count labels on top of bars\n",
    "for bar in bars:\n",
    "    height = bar.get_height()\n",
    "    plt.text(bar.get_x() + bar.get_width()/2., height + 0.1,\n",
    "             f'{int(height)}',\n",
    "             ha='center', va='bottom', fontsize=11)\n",
    "\n",
    "plt.tight_layout()\n",
    "plt.savefig(os.path.join(data_dir, 'data_collection_summary.png'), dpi=300)\n",
    "plt.show()"
   ]
  },
  {
   "cell_type": "code",
   "execution_count": null,
   "metadata": {},
   "outputs": [],
   "source": [
    "# Visualize the categories in the dismissed questions dataset\n",
    "if 'Category' in dismissed_questions_df.columns:\n",
    "    category_counts = dismissed_questions_df['Category'].value_counts()\n",
    "    \n",
    "    plt.figure(figsize=(12, 6))\n",
    "    bars = plt.bar(category_counts.index, category_counts.values, color=sns.color_palette(\"viridis\", len(category_counts)))\n",
    "    plt.title('Distribution of Categories in Dismissed Questions Dataset', fontsize=16)\n",
    "    plt.xlabel('Category', fontsize=12)\n",
    "    plt.ylabel('Count', fontsize=12)\n",
    "    plt.xticks(rotation=45, ha='right')\n",
    "    plt.grid(axis='y', linestyle='--', alpha=0.7)\n",
    "    \n",
    "    # Add count labels on top of bars\n",
    "    for bar in bars:\n",
    "        height = bar.get_height()\n",
    "        plt.text(bar.get_x() + bar.get_width()/2., height + 0.1,\n",
    "                 f'{int(height)}',\n",
    "                 ha='center', va='bottom', fontsize=11)\n",
    "    \n",
    "    plt.tight_layout()\n",
    "    plt.savefig(os.path.join(data_dir, 'dismissed_questions_categories.png'), dpi=300)\n",
    "    plt.show()"
   ]
  },
  {
   "cell_type": "code",
   "execution_count": null,
   "metadata": {},
   "outputs": [],
   "source": [
    "# Visualize the dismissal frequency in the dismissed questions dataset\n",
    "if 'DismissalFrequency' in dismissed_questions_df.columns:\n",
    "    # Define the order for dismissal frequency\n",
    "    order = ['Very High', 'High', 'Medium', 'Low']\n",
    "    \n",
    "    # Count the frequencies\n",
    "    dismissal_counts = dismissed_questions_df['DismissalFrequency'].value_counts().reindex(order)\n",
    "    \n",
    "    # Create a color map based on severity\n",
    "    colors = ['#d62728', '#ff7f0e', '#ffbb78', '#2ca02c']\n",
    "    \n",
    "    plt.figure(figsize=(10, 6))\n",
    "    bars = plt.bar(dismissal_counts.index, dismissal_counts.values, color=colors)\n",
    "    plt.title('Distribution of Dismissal Frequencies', fontsize=16)\n",
    "    plt.xlabel('Dismissal Frequency', fontsize=12)\n",
    "    plt.ylabel('Count', fontsize=12)\n",
    "    plt.grid(axis='y', linestyle='--', alpha=0.7)\n",
    "    \n",
    "    # Add count labels on top of bars\n",
    "    for bar in bars:\n",
    "        height = bar.get_height()\n",
    "        plt.text(bar.get_x() + bar.get_width()/2., height + 0.1,\n",
    "                 f'{int(height)}',\n",
    "                 ha='center', va='bottom', fontsize=11)\n",
    "    \n",
    "    plt.tight_layout()\n",
    "    plt.savefig(os.path.join(data_dir, 'dismissal_frequencies.png'), dpi=300)\n",
    "    plt.show()"
   ]
  },
  {
   "cell_type": "code",
   "execution_count": null,
   "metadata": {},
   "outputs": [],
   "source": [
    "# Visualize the publication years in the PubMed dataset\n",
    "if 'Year' in pubmed_df.columns:\n",
    "    year_counts = pubmed_df['Year'].value_counts().sort_index()\n",
    "    \n",
    "    plt.figure(figsize=(12, 6))\n",
    "    plt.plot(year_counts.index, year_counts.values, marker='o', linestyle='-', linewidth=2, markersize=8)\n",
    "    plt.title('Distribution of PubMed Publications by Year', fontsize=16)\n",
    "    plt.xlabel('Year', fontsize=12)\n",
    "    plt.ylabel('Number of Publications', fontsize=12)\n",
    "    plt.grid(True, linestyle='--', alpha=0.7)\n",
    "    \n",
    "    # Add data labels\n",
    "    for x, y in zip(year_counts.index, year_counts.values):\n",
    "        plt.text(x, y + 0.3, str(int(y)), ha='center', va='bottom', fontsize=10)\n",
    "    \n",
    "    plt.tight_layout()\n",
    "    plt.savefig(os.path.join(data_dir, 'pubmed_years.png'), dpi=300)\n",
    "    plt.show()"
   ]
  },
  {
   "cell_type": "markdown",
   "metadata": {},
   "source": [
    "## 9. Prepare for Next Notebook\n",
    "\n",
    "Let's save all our data in a format that can be easily loaded in the next notebook in the series."
   ]
  },
  {
   "cell_type": "code",
   "execution_count": null,
   "metadata": {},
   "outputs": [],
   "source": [
    "# Save all datasets to the processed directory for use in the next notebook\n",
    "clinical_trials_df.to_csv(os.path.join(processed_dir, 'clinical_trials.csv'), index=False)\n",
    "pubmed_df.to_csv(os.path.join(processed_dir, 'pubmed.csv'), index=False)\n",
    "dismissed_questions_df.to_csv(os.path.join(processed_dir, 'dismissed_questions.csv'), index=False)\n",
    "medical_terminology_df.to_csv(os.path.join(processed_dir, 'medical_terminology.csv'), index=False)\n",
    "\n",
    "print(\"All datasets saved to the processed directory for use in the next notebook.\")"
   ]
  },
  {
   "cell_type": "markdown",
   "metadata": {},
   "source": [
    "## 10. Conclusion\n",
    "\n",
    "In this notebook, we've successfully collected data from multiple sources for our women's health LLM model:\n",
    "\n",
    "1. **Clinical Trials Data**: We collected data on women's health studies from ClinicalTrials.gov.\n",
    "2. **PubMed Publications**: We gathered research papers on women's health and medical dismissal.\n",
    "3. **Dismissed Questions Dataset**: We created a structured dataset of commonly dismissed women's health questions and their better alternatives.\n",
    "4. **Medical Terminology**: We compiled a dataset of medical terms with plain language explanations.\n",
    "\n",
    "This data will serve as the foundation for our LLM model that aims to help women formulate better questions for healthcare consultations.\n",
    "\n",
    "### Next Steps\n",
    "\n",
    "In the next notebook (Part 2: Data Preprocessing), we will:\n",
    "- Clean and preprocess the collected data\n",
    "- Expand the dismissed questions dataset\n",
    "- Add demographic context to the data\n",
    "- Prepare the data for analysis and visualization\n",
    "\n",
    "This will help us create a more comprehensive and balanced dataset for our LLM model."
   ]
  }
 ],
 "metadata": {
  "kernelspec": {
   "display_name": "Python 3 (ipykernel)",
   "language": "python",
   "name": "python3"
  },
  "language_info": {
   "codemirror_mode": {
    "name": "ipython",
    "version": 3
   },
   "file_extension": ".py",
   "mimetype": "text/x-python",
   "name": "python",
   "nbconvert_exporter": "python",
   "pygments_lexer": "ipython3",
   "version": "3.11.4"
  }
 },
 "nbformat": 4,
 "nbformat_minor": 4
}
