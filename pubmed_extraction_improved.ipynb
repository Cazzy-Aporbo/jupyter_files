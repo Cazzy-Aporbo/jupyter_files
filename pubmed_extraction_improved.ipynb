{
 "cells": [
  {
   "cell_type": "markdown",
   "id": "13db16ed",
   "metadata": {},
   "source": [
    "# Multi‑Source Health Evidence Extractor — Improved Notebook\n",
    "\n",
    "This notebook assembles women’s‑health evidence for downstream LLM use. It supports **two modes**:\n",
    "1) **Simulation mode** — synthetic PubMed‑like and patient forum data (fast, offline).\n",
    "2) **Real mode** — actual **PubMed** retrieval via **NCBI Entrez** (Biopython).\n",
    "\n",
    "The pipeline outputs a unified, **LLM‑ready JSON** payload aggregating PubMed articles, patient experiences, and educational resources."
   ]
  },
  {
   "cell_type": "markdown",
   "id": "622fe32e",
   "metadata": {},
   "source": [
    "##  Quick Start\n",
    "\n",
    "**Choose a mode** and run the corresponding section below:\n",
    "\n",
    "- **Simulation mode (offline)**  \n",
    "  1. Run the cell: **Install / Imports (optional)**  \n",
    "  2. Run: **Synthetic Data Fetch** → **Extraction & Analysis** → **Package for LLM** → **Export JSON**\n",
    "\n",
    "- **Real PubMed mode (online)**  \n",
    "  1. Run the cell: **Entrez Setup (REQUIRED)** — set your real email (and API key if available)  \n",
    "  2. Run: **Fetch PubMed via Entrez** → **Extraction & Analysis** → **Package for LLM** → **Export JSON**\n",
    "\n",
    "> The notebook keeps the **latest definition** of a function in memory. If you run both synthetic and Entrez versions of `fetch_pubmed_data`, the most recent cell you executed will be used."
   ]
  },
  {
   "cell_type": "markdown",
   "id": "f7a444d4",
   "metadata": {},
   "source": [
    "##  Environment & Dependencies\n",
    "\n",
    "This notebook expects Python 3.9+ and the following packages:\n",
    "\n",
    "- core: `pandas`, `numpy`, `requests`\n",
    "- PubMed API: `biopython` (for `Bio.Entrez`)\n",
    "- synthetic data: `faker`\n",
    "- optional viz: `matplotlib`, `seaborn`\n",
    "\n",
    "You can install them inside the notebook with the next cell."
   ]
  },
  {
   "cell_type": "code",
   "execution_count": null,
   "id": "f95fa999",
   "metadata": {},
   "outputs": [],
   "source": [
    "# (Optional) Install dependencies inside the notebook kernel\n",
    "# Note: Comment out lines you don't need.\n",
    "# %pip install -U pandas numpy requests biopython faker matplotlib seaborn ipykernel"
   ]
  },
  {
   "cell_type": "markdown",
   "id": "48a4442a",
   "metadata": {},
   "source": [
    "##  Entrez Setup (REQUIRED for Real PubMed Mode)\n",
    "\n",
    "NCBI requires a **valid email**. An API key increases rate limits. Respect NCBI fair‑use policies."
   ]
  },
  {
   "cell_type": "code",
   "execution_count": null,
   "id": "ee4700d5",
   "metadata": {},
   "outputs": [],
   "source": [
    "# --- Entrez Setup (execute before \"Fetch PubMed via Entrez\") ---\n",
    "try:\n",
    "    from Bio import Entrez\n",
    "    Entrez.email = \"your_email@domain.com\"   # <-- set a real email\n",
    "    # Entrez.api_key = \"YOUR_NCBI_API_KEY\"   # optional, improves rate limits\n",
    "    print(\"Entrez configured.\")\n",
    "except Exception as e:\n",
    "    print(\"Biopython not installed or import failed. Install with: %pip install biopython\")\n",
    "    raise"
   ]
  },
  {
   "cell_type": "markdown",
   "id": "a8cfb763",
   "metadata": {},
   "source": [
    "##  Local Caching (Optional, speeds up iteration)\n",
    "\n",
    "Use a tiny disk cache to avoid repeated API calls during prototyping. This is a simple JSON‑on‑disk pattern; swap for `joblib.Memory` or `sqlite` as needed."
   ]
  },
  {
   "cell_type": "code",
   "execution_count": null,
   "id": "aa75c375",
   "metadata": {},
   "outputs": [],
   "source": [
    "import json, hashlib\n",
    "from pathlib import Path\n",
    "from datetime import datetime\n",
    "\n",
    "_CACHE_DIR = Path(\"./.cache_pubmed\")\n",
    "_CACHE_DIR.mkdir(exist_ok=True)\n",
    "\n",
    "def _cache_key(prefix: str, payload: dict) -> Path:\n",
    "    m = hashlib.sha256(json.dumps(payload, sort_keys=True).encode(\"utf-8\")).hexdigest()\n",
    "    return _CACHE_DIR / f\"{prefix}_{m}.json\"\n",
    "\n",
    "def cache_get(prefix: str, payload: dict):\n",
    "    path = _cache_key(prefix, payload)\n",
    "    if path.exists():\n",
    "        try:\n",
    "            return json.loads(path.read_text(encoding=\"utf-8\"))\n",
    "        except Exception:\n",
    "            return None\n",
    "    return None\n",
    "\n",
    "def cache_set(prefix: str, payload: dict, data: dict):\n",
    "    path = _cache_key(prefix, payload)\n",
    "    path.write_text(json.dumps({\"cached_at\": datetime.utcnow().isoformat() + \"Z\", \"data\": data}, ensure_ascii=False, indent=2), encoding=\"utf-8\")\n",
    "    return path"
   ]
  },
  {
   "cell_type": "markdown",
   "id": "9506a0c3",
   "metadata": {},
   "source": [
    "##  Fetch PubMed via Entrez (Real Mode)\n",
    "\n",
    "Example query; tune with MeSH terms, date filters, etc."
   ]
  },
  {
   "cell_type": "code",
   "execution_count": null,
   "id": "76a283b0",
   "metadata": {},
   "outputs": [],
   "source": [
    "# Example: Real PubMed fetch (Entrez) with simple cache\n",
    "from typing import List, Dict\n",
    "\n",
    "def fetch_pubmed_data_entrez(query: str, max_records: int = 10) -> List[Dict]:\n",
    "    # try cache first\n",
    "    cached = cache_get(\"entrez\", {\"q\": query, \"max\": max_records})\n",
    "    if cached:\n",
    "        print(\"Loaded from cache.\")\n",
    "        return cached[\"data\"]\n",
    "    # live fetch\n",
    "    from Bio import Entrez\n",
    "    search = Entrez.esearch(db=\"pubmed\", term=query, retmax=max_records)\n",
    "    record = Entrez.read(search)\n",
    "    ids = record.get(\"IdList\", [])\n",
    "    results = []\n",
    "    if ids:\n",
    "        handle = Entrez.efetch(db=\"pubmed\", id=\",\".join(ids), rettype=\"medline\", retmode=\"text\")\n",
    "        text = handle.read()\n",
    "        # Very lightweight parse: store raw entry blocks (for demo).\n",
    "        # In practice, use Medline parser or ESummary/EFetch XML.\n",
    "        for i, chunk in enumerate(text.split(\"\\n\\n\")):\n",
    "            if chunk.strip():\n",
    "                results.append({\n",
    "                    \"pubmed_id\": ids[i % len(ids)] if ids else None,\n",
    "                    \"title\": chunk.splitlines()[0][:300] if chunk else \"N/A\",\n",
    "                    \"abstract\": \"N/A\",  # replace with a proper MEDLINE/ESummary parse\n",
    "                    \"raw\": chunk,\n",
    "                })\n",
    "    cache_set(\"entrez\", {\"q\": query, \"max\": max_records}, results)\n",
    "    return results\n",
    "\n",
    "# Demo call (uncomment when Entrez is configured)\n",
    "# pubmed_real = fetch_pubmed_data_entrez(\"women's health\", max_records=5)\n",
    "# len(pubmed_real), pubmed_real[:1]"
   ]
  },
  {
   "cell_type": "markdown",
   "id": "d35a549f",
   "metadata": {},
   "source": [
    "##  Synthetic Data (Offline Mode)\n",
    "\n",
    "Fast prototyping without internet. Produces PubMed‑like and forum‑like entries."
   ]
  },
  {
   "cell_type": "code",
   "execution_count": null,
   "id": "2c4a8c43",
   "metadata": {},
   "outputs": [],
   "source": [
    "import random, uuid\n",
    "import numpy as np\n",
    "import pandas as pd\n",
    "from faker import Faker\n",
    "\n",
    "fake = Faker()\n",
    "Faker.seed(42)\n",
    "np.random.seed(42)\n",
    "random.seed(42)\n",
    "\n",
    "def fetch_pubmed_data_synth(query: str, max_records: int = 5):\n",
    "    rows = []\n",
    "    for i in range(max_records):\n",
    "        rows.append({\n",
    "            \"pubmed_id\": str(uuid.uuid4())[:8],\n",
    "            \"title\": f\"Synth study on {query}: {fake.sentence(nb_words=6)}\",\n",
    "            \"abstract\": fake.paragraph(nb_sentences=3),\n",
    "        })\n",
    "    return rows\n",
    "\n",
    "def fetch_patient_experience_synth(topic: str, max_records: int = 5):\n",
    "    rows = []\n",
    "    for i in range(max_records):\n",
    "        rows.append({\n",
    "            \"post_id\": str(uuid.uuid4())[:8],\n",
    "            \"user\": fake.user_name(),\n",
    "            \"content\": f\"{topic}: \" + fake.paragraph(nb_sentences=2),\n",
    "            \"timestamp\": fake.date_time_this_year().isoformat(),\n",
    "        })\n",
    "    return rows\n",
    "\n",
    "# Demo\n",
    "# pubmed_synth = fetch_pubmed_data_synth(\"PCOS\", 3)\n",
    "# patient_synth = fetch_patient_experience_synth(\"PCOS\", 3)\n",
    "# pubmed_synth[:1], patient_synth[:1]"
   ]
  },
  {
   "cell_type": "markdown",
   "id": "73247fa5",
   "metadata": {},
   "source": [
    "##  Extraction & Analysis\n",
    "\n",
    "Placeholders shown below — swap in scispaCy or LLMs for real extraction (PICO, demographics, outcomes)."
   ]
  },
  {
   "cell_type": "code",
   "execution_count": null,
   "id": "44eb1e09",
   "metadata": {},
   "outputs": [],
   "source": [
    "def extract_study_details(record: dict) -> dict:\n",
    "    text = record.get(\"abstract\") or record.get(\"raw\") or \"\"\n",
    "    return {\n",
    "        \"description\": (text or \"\")[:160],\n",
    "        \"eligibility\": None,\n",
    "        \"interventions\": None,\n",
    "        \"outcomes\": None,\n",
    "        \"results\": None,\n",
    "    }\n",
    "\n",
    "def full_text_analysis(text: str) -> dict:\n",
    "    # Placeholder: return first 120 chars and a naive \"topics\" bag\n",
    "    snippet = (text or \"\")[:120]\n",
    "    topics = [w.strip(\".,\").lower() for w in snippet.split() if len(w) > 5][:5]\n",
    "    return {\"summary\": snippet, \"topics\": topics}\n",
    "\n",
    "def track_study_progression(record: dict) -> dict:\n",
    "    return {\"status\": \"unknown\", \"as_of\": pd.Timestamp.utcnow().isoformat()}\n",
    "\n",
    "def analyze_study_demographics(record: dict) -> dict:\n",
    "    # Simulated demo; replace with real trial metadata\n",
    "    return {\"n\": int(np.random.randint(30, 300)), \"age_mean\": round(np.random.normal(38, 6), 1), \"female_ratio\": round(np.random.uniform(0.5, 0.9), 2)}"
   ]
  },
  {
   "cell_type": "markdown",
   "id": "684ef6ca",
   "metadata": {},
   "source": [
    "##  Package for LLM + 🚀 Export JSON"
   ]
  },
  {
   "cell_type": "code",
   "execution_count": null,
   "id": "4b1705b8",
   "metadata": {},
   "outputs": [],
   "source": [
    "from pathlib import Path\n",
    "import json\n",
    "\n",
    "def prepare_llm_input(pubmed_rows, patient_rows=None, edu_rows=None) -> dict:\n",
    "    return {\n",
    "        \"pubmed_data\": pubmed_rows or [],\n",
    "        \"patient_experience\": patient_rows or [],\n",
    "        \"educational_resources\": edu_rows or [],\n",
    "        \"schema_version\": \"0.1.0\",\n",
    "        \"retrieved_at\": pd.Timestamp.utcnow().isoformat(),\n",
    "        \"provenance\": {\"pubmed\": \"Entrez or synthetic\", \"patient\": \"csv or synthetic\", \"education\": \"csv optional\"},\n",
    "    }\n",
    "\n",
    "def export_llm_json(payload: dict, out_path: str | Path = \"llm_input.json\") -> Path:\n",
    "    out_path = Path(out_path)\n",
    "    out_path.write_text(json.dumps(payload, ensure_ascii=False, indent=2), encoding=\"utf-8\")\n",
    "    print(f\"Saved JSON → {out_path.resolve()}\")\n",
    "    return out_path\n",
    "\n",
    "# Example wiring (uncomment one mode):\n",
    "# --- Simulation mode ---\n",
    "# pub = fetch_pubmed_data_synth(\"PCOS\", 5)\n",
    "# pts = fetch_patient_experience_synth(\"PCOS\", 5)\n",
    "# payload = prepare_llm_input(pub, pts, edu_rows=None)\n",
    "# export_llm_json(payload, \"llm_input_synth.json\")\n",
    "\n",
    "# --- Real mode ---\n",
    "# pub = fetch_pubmed_data_entrez(\"women's health\", 5)\n",
    "# payload = prepare_llm_input(pub, None, None)\n",
    "# export_llm_json(payload, \"llm_input_pubmed.json\")"
   ]
  },
  {
   "cell_type": "markdown",
   "id": "1c002ce7",
   "metadata": {},
   "source": [
    "##  Ethics & Compliance\n",
    "\n",
    "- Do **not** load or export PHI/PII.  \n",
    "- Respect **NCBI usage** and fair‑use limits.  \n",
    "- Maintain citations (PMIDs/DOIs) when publishing outputs."
   ]
  },
  {
   "cell_type": "markdown",
   "id": "06abf986",
   "metadata": {},
   "source": [
    "##  Notebook Map (Sections)\n",
    "\n",
    "1. **Quick Start**  \n",
    "2. **Environment & Dependencies**  \n",
    "3. **Entrez Setup (Real Mode)**  \n",
    "4. **Local Caching (Optional)**  \n",
    "5. **Fetch PubMed via Entrez (Real Mode)**  \n",
    "6. **Synthetic Data (Offline Mode)**  \n",
    "7. **Extraction & Analysis**  \n",
    "8. **Package for LLM + Export JSON**  \n",
    "9. **Ethics & Compliance**"
   ]
  },
  {
   "cell_type": "code",
   "execution_count": 1,
   "id": "d459a4cb",
   "metadata": {},
   "outputs": [
    {
     "name": "stdout",
     "output_type": "stream",
     "text": [
      "Libraries imported and environment setup complete.\n"
     ]
    }
   ],
   "source": [
    "# Import libraries for data manipulation, visualization, and API calls.  \n",
    "import pandas as pd  \n",
    "import numpy as np  \n",
    "import matplotlib.pyplot as plt  \n",
    "import seaborn as sns  \n",
    "import json  \n",
    "import os  \n",
    "import requests  \n",
    "from datetime import datetime, timedelta  \n",
    "import random  \n",
    "import uuid  \n",
    "from faker import Faker  \n",
    "  \n",
    "# Set up visualization and reproducibility options.  \n",
    "sns.set(style='whitegrid')  \n",
    "plt.rcParams['figure.figsize'] = (10, 6)  \n",
    "pd.set_option('display.max_columns', None)  \n",
    "pd.set_option('display.width', 1000)  \n",
    "  \n",
    "# Initialize Faker for synthetic data  \n",
    "fake = Faker()  \n",
    "Faker.seed(42)  \n",
    "np.random.seed(42)  \n",
    "random.seed(42)  \n",
    "  \n",
    "print('Libraries imported and environment setup complete.')  "
   ]
  },
  {
   "cell_type": "code",
   "execution_count": 29,
   "id": "7adc8151",
   "metadata": {},
   "outputs": [
    {
     "name": "stdout",
     "output_type": "stream",
     "text": [
      "Data schema loaded: {'patient': ['id', 'age', 'gender', 'diagnosis'], 'study': ['study_id', 'description', 'eligibility', 'interventions', 'outcomes', 'results', 'status']}\n"
     ]
    }
   ],
   "source": [
    "# In a production system, this could be loaded from a JSON file.  \n",
    "  \n",
    "data_schema = {  \n",
    "    \"patient\": [\"id\", \"age\", \"gender\", \"diagnosis\"],  \n",
    "    \"study\": [\"study_id\", \"description\", \"eligibility\", \"interventions\", \"outcomes\", \"results\", \"status\"]  \n",
    "}  \n",
    "print(\"Data schema loaded:\", data_schema)  "
   ]
  },
  {
   "cell_type": "code",
   "execution_count": 3,
   "id": "1c124fed",
   "metadata": {},
   "outputs": [
    {
     "name": "stdout",
     "output_type": "stream",
     "text": [
      "Synthetic PubMed data fetched for query: women health\n",
      "Synthetic patient experience data fetched for topic: women health\n",
      "PubMed Data (first record): {'pubmed_id': '7daa469f-dd73-47eb-9e7d-b7c903d31e79', 'title': 'women health article 0', 'abstract': 'Score each cause. Quality throughout beautiful instead.\\nDespite measure ago current.'}\n",
      "Patient Experience Data (first record): {'post_id': 'e7d19ce3-658a-4d6a-a50f-ca1239270bfe', 'user': 'smoore', 'content': 'Why often my security arm once me system church whether bag control organization push dog build three.', 'timestamp': '2025-03-31T12:12:41.932135'}\n"
     ]
    }
   ],
   "source": [
    "# Define a function to simulate fetching PubMed/MEDLINE data.  \n",
    "def fetch_pubmed_data(query, max_records=5):  \n",
    "    # In practice, this would use the Entrez API.  \n",
    "    records = []  \n",
    "    for i in range(max_records):  \n",
    "        record = {  \n",
    "            'pubmed_id': str(uuid.uuid4()),  \n",
    "            'title': query + \" article \" + str(i),  \n",
    "            'abstract': fake.text(max_nb_chars=200)  \n",
    "        }  \n",
    "        records.append(record)  \n",
    "    print(\"Synthetic PubMed data fetched for query:\", query)  \n",
    "    return records  \n",
    "  \n",
    "# Define a function to simulate fetching patient experience data (forums, support groups).  \n",
    "def fetch_patient_experience_data(topic, max_records=5):  \n",
    "    records = []  \n",
    "    for i in range(max_records):  \n",
    "        record = {  \n",
    "            'post_id': str(uuid.uuid4()),  \n",
    "            'user': fake.user_name(),  \n",
    "            'content': fake.sentence(nb_words=20),  \n",
    "            'timestamp': datetime.now().isoformat()  \n",
    "        }  \n",
    "        records.append(record)  \n",
    "    print(\"Synthetic patient experience data fetched for topic:\", topic)  \n",
    "    return records  \n",
    "  \n",
    "# Test these functions:  \n",
    "pubmed_data = fetch_pubmed_data(\"women health\")  \n",
    "patient_data = fetch_patient_experience_data(\"women health\")  \n",
    "print(\"PubMed Data (first record):\", pubmed_data[0])  \n",
    "print(\"Patient Experience Data (first record):\", patient_data[0])  "
   ]
  },
  {
   "cell_type": "code",
   "execution_count": 4,
   "id": "f43bc08b",
   "metadata": {},
   "outputs": [
    {
     "name": "stdout",
     "output_type": "stream",
     "text": [
      "Synthetic PubMed data fetched for query: women health\n",
      "Synthetic patient experience data fetched for topic: women health\n",
      "PubMed Data (first record): {'pubmed_id': '48414974-24b2-4d32-b40c-f24425bcfeb8', 'title': 'women health article 0', 'abstract': 'Wish specific thing agent. Site in prove same easy city.\\nThe teach develop staff least figure. Development process huge everything attorney.'}\n",
      "Patient Experience Data (first record): {'post_id': '8f1929e4-3e10-4c65-9efc-db4c78bb44fd', 'user': 'mdavid', 'content': 'Option store drug recent feeling range south someone not American mouth product attention.', 'timestamp': '2025-03-31T12:12:57.299447'}\n"
     ]
    }
   ],
   "source": [
    "# Define a function to simulate fetching PubMed/MEDLINE data.  \n",
    "def fetch_pubmed_data(query, max_records=5):  \n",
    "    # In practice, this would use the Entrez API.  \n",
    "    records = []  \n",
    "    for i in range(max_records):  \n",
    "        record = {  \n",
    "            'pubmed_id': str(uuid.uuid4()),  \n",
    "            'title': query + \" article \" + str(i),  \n",
    "            'abstract': fake.text(max_nb_chars=200)  \n",
    "        }  \n",
    "        records.append(record)  \n",
    "    print(\"Synthetic PubMed data fetched for query:\", query)  \n",
    "    return records  \n",
    "  \n",
    "# Define a function to simulate fetching patient experience data (forums, support groups).  \n",
    "def fetch_patient_experience_data(topic, max_records=5):  \n",
    "    records = []  \n",
    "    for i in range(max_records):  \n",
    "        record = {  \n",
    "            'post_id': str(uuid.uuid4()),  \n",
    "            'user': fake.user_name(),  \n",
    "            'content': fake.sentence(nb_words=20),  \n",
    "            'timestamp': datetime.now().isoformat()  \n",
    "        }  \n",
    "        records.append(record)  \n",
    "    print(\"Synthetic patient experience data fetched for topic:\", topic)  \n",
    "    return records  \n",
    "  \n",
    "# Test these functions:  \n",
    "pubmed_data = fetch_pubmed_data(\"women health\")  \n",
    "patient_data = fetch_patient_experience_data(\"women health\")  \n",
    "print(\"PubMed Data (first record):\", pubmed_data[0])  \n",
    "print(\"Patient Experience Data (first record):\", patient_data[0])  "
   ]
  },
  {
   "cell_type": "code",
   "execution_count": 5,
   "id": "cedbb05e",
   "metadata": {},
   "outputs": [
    {
     "name": "stdout",
     "output_type": "stream",
     "text": [
      "Synthetic medical guidelines fetched for specialty: women health\n",
      "Synthetic educational resources fetched for topic: women health\n",
      "Medical Guidelines: {'ACOG': 'Guideline for women health from ACOG.', 'SOGC': 'Guideline for women health from SOGC.', 'WHO': 'Guideline for women health from WHO.'}\n",
      "Educational Resources (first record): {'title': 'women health education resource 0', 'description': 'State husband available picture. Charge specific we. Yes budget share paper.', 'resource_type': 'course', 'url': 'https://www.hall.org/'}\n"
     ]
    }
   ],
   "source": [
    "# Define function to simulate fetching medical guidelines.  \n",
    "def fetch_medical_guidelines(specialty):  \n",
    "    guidelines = {  \n",
    "        'ACOG': \"Guideline for \" + specialty + \" from ACOG.\",  \n",
    "        'SOGC': \"Guideline for \" + specialty + \" from SOGC.\",  \n",
    "        'WHO': \"Guideline for \" + specialty + \" from WHO.\"  \n",
    "    }  \n",
    "    print(\"Synthetic medical guidelines fetched for specialty:\", specialty)  \n",
    "    return guidelines  \n",
    "  \n",
    "# Define function to simulate fetching educational resources.  \n",
    "def fetch_educational_resources(topic, max_records=5):  \n",
    "    resources = []  \n",
    "    for i in range(max_records):  \n",
    "        resource = {  \n",
    "            'title': topic + \" education resource \" + str(i),  \n",
    "            'description': fake.text(max_nb_chars=100),  \n",
    "            'resource_type': random.choice(['video', 'article', 'course']),  \n",
    "            'url': fake.url()  \n",
    "        }  \n",
    "        resources.append(resource)  \n",
    "    print(\"Synthetic educational resources fetched for topic:\", topic)  \n",
    "    return resources  \n",
    "  \n",
    "# Test the functions:  \n",
    "guidelines = fetch_medical_guidelines(\"women health\")  \n",
    "edu_resources = fetch_educational_resources(\"women health\")  \n",
    "print(\"Medical Guidelines:\", guidelines)  \n",
    "print(\"Educational Resources (first record):\", edu_resources[0])  "
   ]
  },
  {
   "cell_type": "code",
   "execution_count": 6,
   "id": "8321a3fd",
   "metadata": {},
   "outputs": [
    {
     "name": "stdout",
     "output_type": "stream",
     "text": [
      "Detailed study data extracted for study ID: STUDY123\n",
      "Performed full-text analysis.\n",
      "Study Details: {'description': \"This study focuses on women's cardiovascular health.\", 'eligibility': 'Women aged 40-65', 'interventions': 'Medication A vs. Placebo', 'outcomes': 'Reduction in blood pressure', 'results': 'Pending'}\n",
      "Full Text Analysis Summary: Summary: This study focuses on women's cardiovascular health.\n"
     ]
    }
   ],
   "source": [
    "# Function to extract detailed study information from a clinical trial record.  \n",
    "def extract_study_details(study_record):  \n",
    "    details = {  \n",
    "        'description': study_record.get('description', 'N/A'),  \n",
    "        'eligibility': study_record.get('eligibility', 'N/A'),  \n",
    "        'interventions': study_record.get('interventions', 'N/A'),  \n",
    "        'outcomes': study_record.get('outcomes', 'N/A'),  \n",
    "        'results': study_record.get('results', 'N/A')  \n",
    "    }  \n",
    "    print(\"Detailed study data extracted for study ID:\", study_record.get('study_id', 'unknown'))  \n",
    "    return details  \n",
    "  \n",
    "# Function to simulate full-text analysis (placeholder for NLP code).  \n",
    "def full_text_analysis(document_text):  \n",
    "    # In an actual deployment, an NLP pipeline would be used.  \n",
    "    summary = \"Summary: \" + document_text[:100]  # first 100 characters as a demo summary  \n",
    "    print(\"Performed full-text analysis.\")  \n",
    "    return summary  \n",
    "  \n",
    "# Test these functions with synthetic study record:  \n",
    "test_study = {  \n",
    "    'study_id': 'STUDY123',  \n",
    "    'description': \"This study focuses on women's cardiovascular health.\",  \n",
    "    'eligibility': \"Women aged 40-65\",  \n",
    "    'interventions': \"Medication A vs. Placebo\",  \n",
    "    'outcomes': \"Reduction in blood pressure\",  \n",
    "    'results': \"Pending\"  \n",
    "}  \n",
    "study_details = extract_study_details(test_study)  \n",
    "text_summary = full_text_analysis(test_study['description'])  \n",
    "print(\"Study Details:\", study_details)  \n",
    "print(\"Full Text Analysis Summary:\", text_summary)  "
   ]
  },
  {
   "cell_type": "code",
   "execution_count": 7,
   "id": "98779f1a",
   "metadata": {},
   "outputs": [
    {
     "name": "stdout",
     "output_type": "stream",
     "text": [
      "Study progression tracked for study: STUDY123\n",
      "Demographic analysis complete for study: STUDY123\n",
      "Study Progression: {'study_id': 'STUDY123', 'status': 'recruiting', 'last_updated': '2025-03-31T12:13:35.452225'}\n",
      "Study Demographics: {'participant_count': 175, 'age_distribution': [68, 58, 44, 37, 50], 'gender_ratio': {'female': 0.9, 'male': 0.1}}\n"
     ]
    }
   ],
   "source": [
    "# Function to simulate tracking study progression.  \n",
    "def track_study_progression(study_record):  \n",
    "    # In production, you might poll an API for status updates.  \n",
    "    progression = {  \n",
    "        'study_id': study_record.get('study_id'),  \n",
    "        'status': study_record.get('status', 'recruiting'),  \n",
    "        'last_updated': datetime.now().isoformat()  \n",
    "    }  \n",
    "    print(\"Study progression tracked for study:\", study_record.get('study_id'))  \n",
    "    return progression  \n",
    "  \n",
    "# Function to simulate extraction and analysis of study demographics.  \n",
    "def analyze_study_demographics(study_record):  \n",
    "    # Simulated demographics extraction; in real settings, demographics would be extracted from the trial's metadata.  \n",
    "    demographics = {  \n",
    "        'participant_count': random.randint(50, 500),  \n",
    "        'age_distribution': np.random.randint(low=30, high=70, size=5).tolist(),  \n",
    "        'gender_ratio': {'female': 0.9, 'male': 0.1}  \n",
    "    }  \n",
    "    print(\"Demographic analysis complete for study:\", study_record.get('study_id'))  \n",
    "    return demographics  \n",
    "  \n",
    "# Test these functions:  \n",
    "progress = track_study_progression({'study_id': 'STUDY123', 'status': 'recruiting'})  \n",
    "demographics = analyze_study_demographics({'study_id': 'STUDY123'})  \n",
    "print(\"Study Progression:\", progress)  \n",
    "print(\"Study Demographics:\", demographics)  "
   ]
  },
  {
   "cell_type": "code",
   "execution_count": 8,
   "id": "c9ea8266",
   "metadata": {},
   "outputs": [
    {
     "name": "stdout",
     "output_type": "stream",
     "text": [
      "LLM input data prepared.\n",
      "LLM Input Data Sample: {'study_details': {'description': \"This study focuses on women's cardiovascular health.\", 'eligibility': 'Women aged 40-65', 'interventions': 'Medication A vs. Placebo', 'outcomes': 'Reduction in blood pressure', 'results': 'Pending'}, 'medical_guidelines': {'ACOG': 'Guideline for women health from ACOG.', 'SOGC': 'Guideline for women health from SOGC.', 'WHO': 'Guideline for women health from WHO.'}, 'pubmed_data': [{'pubmed_id': '48414974-24b2-4d32-b40c-f24425bcfeb8', 'title': 'women health article 0', 'abstract': 'Wish specific thing agent. Site in prove same easy city.\\nThe teach develop staff least figure. Development process huge everything attorney.'}, {'pubmed_id': '1b1dbced-5da1-4384-8724-a5a71584b65b', 'title': 'women health article 1', 'abstract': 'Paper memory history office effort remember. Mind southern rather. Hair attorney professional form finish.\\nMedical project for recent never. Inside wait quality total past.'}, {'pubmed_id': 'cdfab10b-f483-40a3-942e-7c49308d82ac', 'title': 'women health article 2', 'abstract': 'Professional people behavior weight dog financial southern. Agency each little sure.\\nIncrease picture create recent manager during prevent. Throughout team those.'}, {'pubmed_id': 'e546895e-06ef-4f51-a317-19c2e7977ca0', 'title': 'women health article 3', 'abstract': 'Late seem style everyone sing machine dream. Back experience even floor music catch.\\nReally relationship ask imagine my indeed. Strategy hope show watch affect.'}, {'pubmed_id': 'b08cf527-ab1e-4899-88d2-0c15fea2ff53', 'title': 'women health article 4', 'abstract': 'Trade option production. Poor career left anyone. Force lawyer front they everything week.\\nStrong like see appear weight. Practice sit prepare senior wear. Stuff perform draw list boy.'}], 'educational_resources': [{'title': 'women health education resource 0', 'description': 'State husband available picture. Charge specific we. Yes budget share paper.', 'resource_type': 'course', 'url': 'https://www.hall.org/'}, {'title': 'women health education resource 1', 'description': 'Boy different chance enter central arrive. Organization station TV keep light.', 'resource_type': 'video', 'url': 'http://williams.info/'}, {'title': 'women health education resource 2', 'description': 'Young job sport why. Girl four prove tax form really explain.', 'resource_type': 'video', 'url': 'https://www.kim-wolfe.com/'}, {'title': 'women health education resource 3', 'description': 'Participant dream citizen nearly need behavior yeah tree.', 'resource_type': 'course', 'url': 'https://adams.org/'}, {'title': 'women health education resource 4', 'description': 'Between treat address century that wide. Light wide full realize.', 'resource_type': 'article', 'url': 'http://www.jackson-evans.com/'}]}\n"
     ]
    }
   ],
   "source": [
    "# The following functions prepare combined data for a LLM model.  \n",
    "# These functions do not build the model but process and format data.  \n",
    "  \n",
    "def prepare_llm_input(study_details, guidelines, pubmed_data, edu_resources):  \n",
    "    \"\"\"  \n",
    "    Combines multiple data sources into a structured input  \n",
    "    for a language model.  \n",
    "    \"\"\"  \n",
    "    llm_input = {  \n",
    "        'study_details': study_details,  \n",
    "        'medical_guidelines': guidelines,  \n",
    "        'pubmed_data': pubmed_data,  \n",
    "        'educational_resources': edu_resources  \n",
    "    }  \n",
    "    print(\"LLM input data prepared.\")  \n",
    "    return llm_input  \n",
    "  \n",
    "# Test with synthetic data  \n",
    "llm_input_data = prepare_llm_input(  \n",
    "    study_details,  \n",
    "    guidelines,  \n",
    "    pubmed_data,  \n",
    "    edu_resources  \n",
    ")  \n",
    "print(\"LLM Input Data Sample:\", llm_input_data)  "
   ]
  },
  {
   "cell_type": "code",
   "execution_count": 9,
   "id": "449e0991",
   "metadata": {},
   "outputs": [
    {
     "name": "stdout",
     "output_type": "stream",
     "text": [
      "----- Combined Testing Overview -----\n"
     ]
    }
   ],
   "source": [
    "# Final testing cell: combines outputs from all separate modules.  \n",
    "print(\"----- Combined Testing Overview -----\")  \n"
   ]
  },
  {
   "cell_type": "code",
   "execution_count": 10,
   "id": "86c14f14",
   "metadata": {},
   "outputs": [
    {
     "name": "stdout",
     "output_type": "stream",
     "text": [
      "PubMed Data: {'pubmed_id': '48414974-24b2-4d32-b40c-f24425bcfeb8', 'title': 'women health article 0', 'abstract': 'Wish specific thing agent. Site in prove same easy city.\\nThe teach develop staff least figure. Development process huge everything attorney.'}\n"
     ]
    }
   ],
   "source": [
    "print(\"PubMed Data:\", pubmed_data[0])"
   ]
  },
  {
   "cell_type": "code",
   "execution_count": 11,
   "id": "f0598e85",
   "metadata": {},
   "outputs": [
    {
     "name": "stdout",
     "output_type": "stream",
     "text": [
      "Patient Experience Data: {'post_id': '8f1929e4-3e10-4c65-9efc-db4c78bb44fd', 'user': 'mdavid', 'content': 'Option store drug recent feeling range south someone not American mouth product attention.', 'timestamp': '2025-03-31T12:12:57.299447'}\n"
     ]
    }
   ],
   "source": [
    "print(\"Patient Experience Data:\", patient_data[0]) "
   ]
  },
  {
   "cell_type": "code",
   "execution_count": 12,
   "id": "014723d4",
   "metadata": {},
   "outputs": [
    {
     "name": "stdout",
     "output_type": "stream",
     "text": [
      "Medical Guidelines: {'ACOG': 'Guideline for women health from ACOG.', 'SOGC': 'Guideline for women health from SOGC.', 'WHO': 'Guideline for women health from WHO.'}\n"
     ]
    }
   ],
   "source": [
    "print(\"Medical Guidelines:\", guidelines)  "
   ]
  },
  {
   "cell_type": "code",
   "execution_count": 13,
   "id": "74e29e4e",
   "metadata": {},
   "outputs": [
    {
     "name": "stdout",
     "output_type": "stream",
     "text": [
      "Educational Resource Sample: {'title': 'women health education resource 0', 'description': 'State husband available picture. Charge specific we. Yes budget share paper.', 'resource_type': 'course', 'url': 'https://www.hall.org/'}\n"
     ]
    }
   ],
   "source": [
    "print(\"Educational Resource Sample:\", edu_resources[0])  "
   ]
  },
  {
   "cell_type": "code",
   "execution_count": 14,
   "id": "32c0ece4",
   "metadata": {},
   "outputs": [
    {
     "name": "stdout",
     "output_type": "stream",
     "text": [
      "Study Details: {'description': \"This study focuses on women's cardiovascular health.\", 'eligibility': 'Women aged 40-65', 'interventions': 'Medication A vs. Placebo', 'outcomes': 'Reduction in blood pressure', 'results': 'Pending'}\n"
     ]
    }
   ],
   "source": [
    "print(\"Study Details:\", study_details)  "
   ]
  },
  {
   "cell_type": "code",
   "execution_count": 15,
   "id": "6d0280ec",
   "metadata": {},
   "outputs": [
    {
     "name": "stdout",
     "output_type": "stream",
     "text": [
      "Full Text Analysis: Summary: This study focuses on women's cardiovascular health.\n"
     ]
    }
   ],
   "source": [
    "print(\"Full Text Analysis:\", text_summary)  "
   ]
  },
  {
   "cell_type": "code",
   "execution_count": 16,
   "id": "eaa0ccc1",
   "metadata": {},
   "outputs": [
    {
     "name": "stdout",
     "output_type": "stream",
     "text": [
      "Study Progression: {'study_id': 'STUDY123', 'status': 'recruiting', 'last_updated': '2025-03-31T12:13:35.452225'}\n"
     ]
    }
   ],
   "source": [
    "print(\"Study Progression:\", progress) "
   ]
  },
  {
   "cell_type": "code",
   "execution_count": 17,
   "id": "93fbef83",
   "metadata": {},
   "outputs": [
    {
     "name": "stdout",
     "output_type": "stream",
     "text": [
      "Study Demographics: {'participant_count': 175, 'age_distribution': [68, 58, 44, 37, 50], 'gender_ratio': {'female': 0.9, 'male': 0.1}}\n"
     ]
    }
   ],
   "source": [
    "print(\"Study Demographics:\", demographics) "
   ]
  },
  {
   "cell_type": "code",
   "execution_count": 18,
   "id": "2b8fbff4",
   "metadata": {},
   "outputs": [
    {
     "name": "stdout",
     "output_type": "stream",
     "text": [
      "LLM Input Data (study portion): {'description': \"This study focuses on women's cardiovascular health.\", 'eligibility': 'Women aged 40-65', 'interventions': 'Medication A vs. Placebo', 'outcomes': 'Reduction in blood pressure', 'results': 'Pending'}\n"
     ]
    }
   ],
   "source": [
    "print(\"LLM Input Data (study portion):\", llm_input_data['study_details'])  "
   ]
  },
  {
   "cell_type": "code",
   "execution_count": 19,
   "id": "718fb968",
   "metadata": {},
   "outputs": [
    {
     "name": "stdout",
     "output_type": "stream",
     "text": [
      "Combined testing completed successfully.\n"
     ]
    }
   ],
   "source": [
    "print(\"Combined testing completed successfully.\") "
   ]
  },
  {
   "cell_type": "code",
   "execution_count": 21,
   "id": "312e8e8c",
   "metadata": {},
   "outputs": [
    {
     "name": "stdout",
     "output_type": "stream",
     "text": [
      "Collecting biopython\n",
      "  Obtaining dependency information for biopython from https://files.pythonhosted.org/packages/ff/cf/299524e896fa49beb7588143e1509cce4848572215ebafb8eea83a861820/biopython-1.85-cp311-cp311-macosx_11_0_arm64.whl.metadata\n",
      "  Downloading biopython-1.85-cp311-cp311-macosx_11_0_arm64.whl.metadata (13 kB)\n",
      "Requirement already satisfied: requests in /Users/cazandraaporbo/anaconda3/lib/python3.11/site-packages (2.31.0)\n",
      "Requirement already satisfied: numpy in /Users/cazandraaporbo/anaconda3/lib/python3.11/site-packages (from biopython) (1.24.3)\n",
      "Requirement already satisfied: charset-normalizer<4,>=2 in /Users/cazandraaporbo/anaconda3/lib/python3.11/site-packages (from requests) (2.0.4)\n",
      "Requirement already satisfied: idna<4,>=2.5 in /Users/cazandraaporbo/anaconda3/lib/python3.11/site-packages (from requests) (3.4)\n",
      "Requirement already satisfied: urllib3<3,>=1.21.1 in /Users/cazandraaporbo/anaconda3/lib/python3.11/site-packages (from requests) (1.26.16)\n",
      "Requirement already satisfied: certifi>=2017.4.17 in /Users/cazandraaporbo/anaconda3/lib/python3.11/site-packages (from requests) (2023.7.22)\n",
      "Downloading biopython-1.85-cp311-cp311-macosx_11_0_arm64.whl (2.8 MB)\n",
      "\u001b[2K   \u001b[90m━━━━━━━━━━━━━━━━━━━━━━━━━━━━━━━━━━━━━━━━\u001b[0m \u001b[32m2.8/2.8 MB\u001b[0m \u001b[31m12.9 MB/s\u001b[0m eta \u001b[36m0:00:00\u001b[0ma \u001b[36m0:00:01\u001b[0m\n",
      "\u001b[?25hInstalling collected packages: biopython\n",
      "Successfully installed biopython-1.85\n",
      "Note: you may need to restart the kernel to use updated packages.\n"
     ]
    }
   ],
   "source": [
    "\n",
    "%pip install biopython requests"
   ]
  },
  {
   "cell_type": "code",
   "execution_count": 22,
   "id": "8c5a338a",
   "metadata": {},
   "outputs": [
    {
     "name": "stdout",
     "output_type": "stream",
     "text": [
      "Cell 1: Libraries imported successfully\n"
     ]
    }
   ],
   "source": [
    "# Cell 1: Import Libraries and Setup  \n",
    "import pandas as pd  \n",
    "import numpy as np  \n",
    "import matplotlib.pyplot as plt  \n",
    "import seaborn as sns  \n",
    "import json  \n",
    "import os  \n",
    "import requests  \n",
    "from datetime import datetime, timedelta  \n",
    "import re  \n",
    "from IPython.display import display, HTML  \n",
    "import xml.etree.ElementTree as ET  \n",
    "from Bio import Entrez  \n",
    "import warnings  \n",
    "  \n",
    "# Set visualization style  \n",
    "sns.set(style='whitegrid')  \n",
    "plt.rcParams['figure.figsize'] = (12, 8)  \n",
    "pd.set_option('display.max_columns', None)  \n",
    "pd.set_option('display.width', 1000)  \n",
    "warnings.filterwarnings('ignore')  \n",
    "  \n",
    "# Set email for Entrez (required for NCBI API access)  \n",
    "Entrez.email = 'example@example.com'  # Replace with your email  \n",
    "  \n",
    "print('Cell 1: Libraries imported successfully')  "
   ]
  },
  {
   "cell_type": "code",
   "execution_count": 23,
   "id": "ce5605af",
   "metadata": {},
   "outputs": [
    {
     "data": {
      "text/html": [
       "<div>\n",
       "<style scoped>\n",
       "    .dataframe tbody tr th:only-of-type {\n",
       "        vertical-align: middle;\n",
       "    }\n",
       "\n",
       "    .dataframe tbody tr th {\n",
       "        vertical-align: top;\n",
       "    }\n",
       "\n",
       "    .dataframe thead th {\n",
       "        text-align: right;\n",
       "    }\n",
       "</style>\n",
       "<table border=\"1\" class=\"dataframe\">\n",
       "  <thead>\n",
       "    <tr style=\"text-align: right;\">\n",
       "      <th></th>\n",
       "      <th>patient</th>\n",
       "      <th>study</th>\n",
       "    </tr>\n",
       "  </thead>\n",
       "  <tbody>\n",
       "    <tr>\n",
       "      <th>0</th>\n",
       "      <td>id</td>\n",
       "      <td>study_id</td>\n",
       "    </tr>\n",
       "    <tr>\n",
       "      <th>1</th>\n",
       "      <td>age</td>\n",
       "      <td>description</td>\n",
       "    </tr>\n",
       "    <tr>\n",
       "      <th>2</th>\n",
       "      <td>gender</td>\n",
       "      <td>eligibility</td>\n",
       "    </tr>\n",
       "    <tr>\n",
       "      <th>3</th>\n",
       "      <td>diagnosis</td>\n",
       "      <td>interventions</td>\n",
       "    </tr>\n",
       "    <tr>\n",
       "      <th>4</th>\n",
       "      <td>NaN</td>\n",
       "      <td>outcomes</td>\n",
       "    </tr>\n",
       "    <tr>\n",
       "      <th>5</th>\n",
       "      <td>NaN</td>\n",
       "      <td>results</td>\n",
       "    </tr>\n",
       "    <tr>\n",
       "      <th>6</th>\n",
       "      <td>NaN</td>\n",
       "      <td>status</td>\n",
       "    </tr>\n",
       "  </tbody>\n",
       "</table>\n",
       "</div>"
      ],
      "text/plain": [
       "     patient          study\n",
       "0         id       study_id\n",
       "1        age    description\n",
       "2     gender    eligibility\n",
       "3  diagnosis  interventions\n",
       "4        NaN       outcomes\n",
       "5        NaN        results\n",
       "6        NaN         status"
      ]
     },
     "metadata": {},
     "output_type": "display_data"
    },
    {
     "name": "stdout",
     "output_type": "stream",
     "text": [
      "Cell 2: Data schema loaded and displayed.\n"
     ]
    }
   ],
   "source": [
    "# Cell 2: Load Data Schema and Display  \n",
    "data_schema = {  \n",
    "    'patient': ['id', 'age', 'gender', 'diagnosis'],  \n",
    "    'study': ['study_id', 'description', 'eligibility', 'interventions', 'outcomes', 'results', 'status']  \n",
    "}  \n",
    "schema_df = pd.DataFrame(dict([(k, pd.Series(v)) for k, v in data_schema.items()]))  \n",
    "display(schema_df)  \n",
    "print('Cell 2: Data schema loaded and displayed.')  "
   ]
  },
  {
   "cell_type": "code",
   "execution_count": 24,
   "id": "1cb12ce9",
   "metadata": {},
   "outputs": [
    {
     "name": "stdout",
     "output_type": "stream",
     "text": [
      "Fetched real PubMed data.\n"
     ]
    },
    {
     "data": {
      "text/html": [
       "<div>\n",
       "<style scoped>\n",
       "    .dataframe tbody tr th:only-of-type {\n",
       "        vertical-align: middle;\n",
       "    }\n",
       "\n",
       "    .dataframe tbody tr th {\n",
       "        vertical-align: top;\n",
       "    }\n",
       "\n",
       "    .dataframe thead th {\n",
       "        text-align: right;\n",
       "    }\n",
       "</style>\n",
       "<table border=\"1\" class=\"dataframe\">\n",
       "  <thead>\n",
       "    <tr style=\"text-align: right;\">\n",
       "      <th></th>\n",
       "      <th>pubmed_id</th>\n",
       "      <th>title</th>\n",
       "      <th>abstract</th>\n",
       "    </tr>\n",
       "  </thead>\n",
       "  <tbody>\n",
       "    <tr>\n",
       "      <th>0</th>\n",
       "      <td>40158191</td>\n",
       "      <td>The role of the mTOR pathway in breast cancer ...</td>\n",
       "      <td>Breast cancer remains the most frequently diag...</td>\n",
       "    </tr>\n",
       "    <tr>\n",
       "      <th>1</th>\n",
       "      <td>40158186</td>\n",
       "      <td>Maternal metabolomics linking prenatal exposur...</td>\n",
       "      <td>Prenatal exposure to air pollution has been as...</td>\n",
       "    </tr>\n",
       "    <tr>\n",
       "      <th>2</th>\n",
       "      <td>40158170</td>\n",
       "      <td>Intimate partner violence and quality of life ...</td>\n",
       "      <td>Intimate partner violence (IPV) is a prevalent...</td>\n",
       "    </tr>\n",
       "    <tr>\n",
       "      <th>3</th>\n",
       "      <td>40158153</td>\n",
       "      <td>Attitudes towards the practice of female genit...</td>\n",
       "      <td>To identify key demographic, socio-economic, a...</td>\n",
       "    </tr>\n",
       "    <tr>\n",
       "      <th>4</th>\n",
       "      <td>40158146</td>\n",
       "      <td>Axial spondyloarthritis and breastfeeding: a p...</td>\n",
       "      <td>There is sparse literature on the topic of bre...</td>\n",
       "    </tr>\n",
       "  </tbody>\n",
       "</table>\n",
       "</div>"
      ],
      "text/plain": [
       "  pubmed_id                                              title                                           abstract\n",
       "0  40158191  The role of the mTOR pathway in breast cancer ...  Breast cancer remains the most frequently diag...\n",
       "1  40158186  Maternal metabolomics linking prenatal exposur...  Prenatal exposure to air pollution has been as...\n",
       "2  40158170  Intimate partner violence and quality of life ...  Intimate partner violence (IPV) is a prevalent...\n",
       "3  40158153  Attitudes towards the practice of female genit...  To identify key demographic, socio-economic, a...\n",
       "4  40158146  Axial spondyloarthritis and breastfeeding: a p...  There is sparse literature on the topic of bre..."
      ]
     },
     "metadata": {},
     "output_type": "display_data"
    }
   ],
   "source": [
    "# Cell 3: Fetch Real PubMed Data with Entrez API  \n",
    "def fetch_pubmed_data(query, max_records=5):  \n",
    "    \"\"\"  \n",
    "    Fetch PubMed records for a given query using the NCBI Entrez API.  \n",
    "    Returns a pandas DataFrame of PubMed IDs, Titles, and Abstracts.  \n",
    "    \"\"\"  \n",
    "    handle = Entrez.esearch(db=\"pubmed\", term=query, retmax=max_records)  \n",
    "    record = Entrez.read(handle)  \n",
    "    handle.close()  \n",
    "    id_list = record['IdList']  \n",
    "      \n",
    "    # Fetch details of articles  \n",
    "    handle = Entrez.efetch(db=\"pubmed\", id=','.join(id_list), retmode=\"xml\")  \n",
    "    records = Entrez.read(handle)  \n",
    "    handle.close()  \n",
    "      \n",
    "    articles = []  \n",
    "    for doc in records['PubmedArticle']:  \n",
    "        medline = doc['MedlineCitation']  \n",
    "        pmid = medline['PMID']  \n",
    "        # Title  \n",
    "        title = medline['Article'].get('ArticleTitle', 'N/A')  \n",
    "        # Abstract may not exist  \n",
    "        abstract = 'N/A'  \n",
    "        if medline['Article'].get('Abstract'):  \n",
    "            abstract = ' '.join(medline['Article']['Abstract'].get('AbstractText', []))  \n",
    "        articles.append({'pubmed_id': str(pmid), 'title': title, 'abstract': abstract})  \n",
    "    print('Fetched real PubMed data.')  \n",
    "    return pd.DataFrame(articles)  \n",
    "  \n",
    "# Fetch data for women's health articles  \n",
    "pubmed_df = fetch_pubmed_data('women health', max_records=5)  \n",
    "display(pubmed_df.head())  "
   ]
  },
  {
   "cell_type": "code",
   "execution_count": 25,
   "id": "d95a5eed",
   "metadata": {},
   "outputs": [
    {
     "data": {
      "image/png": "[encoded data removed]",
      "text/plain": [
       "<Figure size 1200x800 with 1 Axes>"
      ]
     },
     "metadata": {},
     "output_type": "display_data"
    },
    {
     "name": "stdout",
     "output_type": "stream",
     "text": [
      "Cell 4: Histogram of Title Lengths displayed.\n"
     ]
    }
   ],
   "source": [
    "# Cell 4: Exploration & Visualization on PubMed Data  \n",
    "pubmed_df['title_length'] = pubmed_df['title'].apply(len)  \n",
    "plt.figure()  \n",
    "sns.histplot(pubmed_df['title_length'], bins=5, kde=True)  \n",
    "plt.title('Distribution of PubMed Title Lengths')  \n",
    "plt.xlabel('Title Length')  \n",
    "plt.ylabel('Count')  \n",
    "plt.show()  \n",
    "print('Cell 4: Histogram of Title Lengths displayed.')  "
   ]
  },
  {
   "cell_type": "code",
   "execution_count": 26,
   "id": "84583168",
   "metadata": {},
   "outputs": [
    {
     "name": "stdout",
     "output_type": "stream",
     "text": [
      "patient_experience.csv not found. Please provide the file for real patient data.\n"
     ]
    }
   ],
   "source": [
    "# Cell 5: Load Real Patient Experience Data (example)  \n",
    "# Replace 'patient_experience.csv' with your actual file path.  \n",
    "if os.path.exists('patient_experience.csv'):  \n",
    "    patient_df = pd.read_csv('patient_experience.csv')  \n",
    "    print('Patient experience data loaded.')  \n",
    "    display(patient_df.head())  \n",
    "else:  \n",
    "    print('patient_experience.csv not found. Please provide the file for real patient data.')  "
   ]
  },
  {
   "cell_type": "code",
   "execution_count": 27,
   "id": "8e4b7986",
   "metadata": {},
   "outputs": [
    {
     "name": "stdout",
     "output_type": "stream",
     "text": [
      "educational_resources.csv not found. Please provide the file for real educational data.\n"
     ]
    }
   ],
   "source": [
    "# Cell 6: Load Real Educational Resources Data (example)  \n",
    "if os.path.exists('educational_resources.csv'):  \n",
    "    edu_resources_df = pd.read_csv('educational_resources.csv')  \n",
    "    print('Educational resources data loaded.')  \n",
    "    display(edu_resources_df.head())  \n",
    "else:  \n",
    "    print('educational_resources.csv not found. Please provide the file for real educational data.')  "
   ]
  },
  {
   "cell_type": "code",
   "execution_count": 28,
   "id": "e97beb6d",
   "metadata": {},
   "outputs": [
    {
     "name": "stdout",
     "output_type": "stream",
     "text": [
      "Cell 7: LLM input data prepared. Displaying PubMed data portion:\n"
     ]
    },
    {
     "data": {
      "text/html": [
       "<div>\n",
       "<style scoped>\n",
       "    .dataframe tbody tr th:only-of-type {\n",
       "        vertical-align: middle;\n",
       "    }\n",
       "\n",
       "    .dataframe tbody tr th {\n",
       "        vertical-align: top;\n",
       "    }\n",
       "\n",
       "    .dataframe thead th {\n",
       "        text-align: right;\n",
       "    }\n",
       "</style>\n",
       "<table border=\"1\" class=\"dataframe\">\n",
       "  <thead>\n",
       "    <tr style=\"text-align: right;\">\n",
       "      <th></th>\n",
       "      <th>pubmed_id</th>\n",
       "      <th>title</th>\n",
       "      <th>abstract</th>\n",
       "      <th>title_length</th>\n",
       "    </tr>\n",
       "  </thead>\n",
       "  <tbody>\n",
       "    <tr>\n",
       "      <th>0</th>\n",
       "      <td>40158191</td>\n",
       "      <td>The role of the mTOR pathway in breast cancer ...</td>\n",
       "      <td>Breast cancer remains the most frequently diag...</td>\n",
       "      <td>104</td>\n",
       "    </tr>\n",
       "    <tr>\n",
       "      <th>1</th>\n",
       "      <td>40158186</td>\n",
       "      <td>Maternal metabolomics linking prenatal exposur...</td>\n",
       "      <td>Prenatal exposure to air pollution has been as...</td>\n",
       "      <td>141</td>\n",
       "    </tr>\n",
       "    <tr>\n",
       "      <th>2</th>\n",
       "      <td>40158170</td>\n",
       "      <td>Intimate partner violence and quality of life ...</td>\n",
       "      <td>Intimate partner violence (IPV) is a prevalent...</td>\n",
       "      <td>117</td>\n",
       "    </tr>\n",
       "    <tr>\n",
       "      <th>3</th>\n",
       "      <td>40158153</td>\n",
       "      <td>Attitudes towards the practice of female genit...</td>\n",
       "      <td>To identify key demographic, socio-economic, a...</td>\n",
       "      <td>139</td>\n",
       "    </tr>\n",
       "    <tr>\n",
       "      <th>4</th>\n",
       "      <td>40158146</td>\n",
       "      <td>Axial spondyloarthritis and breastfeeding: a p...</td>\n",
       "      <td>There is sparse literature on the topic of bre...</td>\n",
       "      <td>63</td>\n",
       "    </tr>\n",
       "  </tbody>\n",
       "</table>\n",
       "</div>"
      ],
      "text/plain": [
       "  pubmed_id                                              title                                           abstract  title_length\n",
       "0  40158191  The role of the mTOR pathway in breast cancer ...  Breast cancer remains the most frequently diag...           104\n",
       "1  40158186  Maternal metabolomics linking prenatal exposur...  Prenatal exposure to air pollution has been as...           141\n",
       "2  40158170  Intimate partner violence and quality of life ...  Intimate partner violence (IPV) is a prevalent...           117\n",
       "3  40158153  Attitudes towards the practice of female genit...  To identify key demographic, socio-economic, a...           139\n",
       "4  40158146  Axial spondyloarthritis and breastfeeding: a p...  There is sparse literature on the topic of bre...            63"
      ]
     },
     "metadata": {},
     "output_type": "display_data"
    }
   ],
   "source": [
    "# Cell 7: Combine Data into LLM Input Data Structure  \n",
    "def prepare_llm_input(pubmed_df, patient_df=None, edu_resources_df=None):  \n",
    "    \"\"\"  \n",
    "    Combine real data from various sources into a structured dictionary for LLM input.  \n",
    "    \"\"\"  \n",
    "    llm_input = {  \n",
    "        'pubmed_data': pubmed_df.to_dict(orient='records'),  \n",
    "        'patient_experience': patient_df.to_dict(orient='records') if patient_df is not None else None,  \n",
    "        'educational_resources': edu_resources_df.to_dict(orient='records') if edu_resources_df is not None else None  \n",
    "    }  \n",
    "    return llm_input  \n",
    "  \n",
    "llm_input_data = prepare_llm_input(pubmed_df,   \n",
    "                                   patient_df if 'patient_df' in globals() else None,   \n",
    "                                   edu_resources_df if 'edu_resources_df' in globals() else None)  \n",
    "  \n",
    "print('Cell 7: LLM input data prepared. Displaying PubMed data portion:')  \n",
    "display(pd.DataFrame(llm_input_data['pubmed_data']).head())  "
   ]
  },
  {
   "cell_type": "code",
   "execution_count": null,
   "id": "5b4c1332",
   "metadata": {},
   "outputs": [],
   "source": []
  }
 ],
 "metadata": {
  "kernelspec": {
   "display_name": "Python 3 (ipykernel)",
   "language": "python",
   "name": "python3"
  },
  "language_info": {
   "codemirror_mode": {
    "name": "ipython",
    "version": 3
   },
   "file_extension": ".py",
   "mimetype": "text/x-python",
   "name": "python",
   "nbconvert_exporter": "python",
   "pygments_lexer": "ipython3",
   "version": "3.11.11"
  }
 },
 "nbformat": 4,
 "nbformat_minor": 5
}
