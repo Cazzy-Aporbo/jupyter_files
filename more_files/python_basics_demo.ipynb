{
 "cells": [
  {
   "cell_type": "markdown",
   "id": "1c78559f",
   "metadata": {},
   "source": [
    "# Python Basics — Researcher Edition\n",
    "\n",
    "This notebook demonstrates core Python concepts with minimal boilerplate and rigorous checks.\n",
    "It is written from the perspective of an advanced researcher/data scientist and includes\n",
    "assertions to prevent silent failures. Each section is self-contained.\n",
    "\n",
    "**Contents**\n",
    "1. Arithmetic & Types\n",
    "2. Strings\n",
    "3. Collections (list/tuple/set/dict)\n",
    "4. Control Flow & Loops\n",
    "5. Functions & Classes\n",
    "6. File I/O (read/write/append)\n",
    "7. NumPy Essentials\n",
    "8. Pandas Essentials"
   ]
  },
  {
   "cell_type": "code",
   "execution_count": 1,
   "id": "8de1fe2b",
   "metadata": {},
   "outputs": [],
   "source": [
    "from __future__ import annotations\n",
    "\n",
    "from pathlib import Path\n",
    "from typing import List, Dict, Any\n",
    "\n",
    "import numpy as np\n",
    "import pandas as pd\n",
    "\n",
    "def section(title: str):\n",
    "    print(\"\\n\" + \"=\"*80)\n",
    "    print(title)\n",
    "    print(\"=\"*80)"
   ]
  },
  {
   "cell_type": "markdown",
   "id": "4060b177",
   "metadata": {},
   "source": [
    "## 1. Arithmetic & Types"
   ]
  },
  {
   "cell_type": "code",
   "execution_count": 2,
   "id": "f6da5c54",
   "metadata": {},
   "outputs": [
    {
     "name": "stdout",
     "output_type": "stream",
     "text": [
      "\n",
      "================================================================================\n",
      "Arithmetic & Types\n",
      "================================================================================\n",
      "3 + 2*2 = 7\n",
      "Type(True) -> bool\n",
      "int(3.2) = 3\n"
     ]
    }
   ],
   "source": [
    "section(\"Arithmetic & Types\")\n",
    "result = 3 + 2 * 2\n",
    "assert result == 7, \"Operator precedence failed\"\n",
    "print(\"3 + 2*2 =\", result)\n",
    "\n",
    "val_true = True\n",
    "assert isinstance(val_true, bool)\n",
    "print(\"Type(True) ->\", type(val_true).__name__)\n",
    "\n",
    "cast = int(3.2)\n",
    "assert cast == 3\n",
    "print(\"int(3.2) =\", cast)"
   ]
  },
  {
   "cell_type": "markdown",
   "id": "55a17144",
   "metadata": {},
   "source": [
    "## 2. Strings"
   ]
  },
  {
   "cell_type": "code",
   "execution_count": 3,
   "id": "59a02378",
   "metadata": {},
   "outputs": [
    {
     "name": "stdout",
     "output_type": "stream",
     "text": [
      "\n",
      "================================================================================\n",
      "Strings\n",
      "================================================================================\n",
      "A[1::2] = 246\n",
      "find('el') = 5\n",
      "concat -> 12\n",
      "upper -> YOU ARE WRONG\n",
      "split -> ['1', '2', '3', '4']\n"
     ]
    }
   ],
   "source": [
    "section(\"Strings\")\n",
    "A = \"1234567\"\n",
    "sliced = A[1::2]\n",
    "assert sliced == \"246\"\n",
    "print(\"A[1::2] =\", sliced)\n",
    "\n",
    "name = \"Michael Jackson\"\n",
    "idx = name.find(\"el\")\n",
    "assert idx == 5\n",
    "print(\"find('el') =\", idx)\n",
    "\n",
    "A_str, B_str = \"1\", \"2\"\n",
    "assert A_str + B_str == \"12\"\n",
    "print(\"concat ->\", A_str + B_str)\n",
    "\n",
    "F = \"You are wrong\"\n",
    "assert F.upper() == \"YOU ARE WRONG\"\n",
    "print(\"upper ->\", F.upper())\n",
    "\n",
    "tokens = \"1,2,3,4\".split(\",\")\n",
    "assert tokens == [\"1\",\"2\",\"3\",\"4\"]\n",
    "print(\"split ->\", tokens)"
   ]
  },
  {
   "cell_type": "markdown",
   "id": "5c8b2f1a",
   "metadata": {},
   "source": [
    "## 3. Collections"
   ]
  },
  {
   "cell_type": "code",
   "execution_count": 4,
   "id": "be88f1e0",
   "metadata": {},
   "outputs": [
    {
     "name": "stdout",
     "output_type": "stream",
     "text": [
      "\n",
      "================================================================================\n",
      "Collections\n",
      "================================================================================\n",
      "tuple[-1], nested[1], nested[0][1] -> C [21, 22] 12\n",
      "list concat -> [1, 'a', 2, 1, 'd']\n",
      "cast to set (uniques) -> {1, 2, 'a', 'd'}\n",
      "dict keys -> ['a', 'b']\n"
     ]
    }
   ],
   "source": [
    "section(\"Collections\")\n",
    "tpl = (\"A\",\"B\",\"C\")\n",
    "assert tpl[-1] == \"C\"\n",
    "\n",
    "nested = ((11,12), [21,22])\n",
    "assert nested[1] == [21,22]\n",
    "assert nested[0][1] == 12\n",
    "print(\"tuple[-1], nested[1], nested[0][1] ->\", tpl[-1], nested[1], nested[0][1])\n",
    "\n",
    "A_list = [1,\"a\"]; B_list = [2,1,\"d\"]\n",
    "cat = A_list + B_list\n",
    "assert cat == [1,\"a\",2,1,\"d\"]\n",
    "print(\"list concat ->\", cat)\n",
    "\n",
    "s = set(cat)\n",
    "print(\"cast to set (uniques) ->\", s)\n",
    "\n",
    "d: Dict[str,int] = {\"a\":1, \"b\":2}\n",
    "assert set(d.keys()) == {\"a\",\"b\"}\n",
    "print(\"dict keys ->\", list(d.keys()))"
   ]
  },
  {
   "cell_type": "markdown",
   "id": "7ada10ad",
   "metadata": {},
   "source": [
    "## 4. Control Flow & Loops"
   ]
  },
  {
   "cell_type": "code",
   "execution_count": 5,
   "id": "ad6d861e",
   "metadata": {},
   "outputs": [
    {
     "name": "stdout",
     "output_type": "stream",
     "text": [
      "\n",
      "================================================================================\n",
      "Control Flow & Loops\n",
      "================================================================================\n",
      "Go Cazzy\n",
      "Go Cazzy\n",
      "iterations -> 3\n",
      "n+1 sequence -> [1, 2, 3]\n",
      "string*2 -> ['11', '22', '33']\n"
     ]
    }
   ],
   "source": [
    "section(\"Control Flow & Loops\")\n",
    "x = \"Go\"\n",
    "msg1 = (\"Stop\" if x != \"Go\" else \"Go \") + \"Cazzy\"\n",
    "assert msg1 == \"Go Cazzy\"\n",
    "print(msg1)\n",
    "\n",
    "msg2 = (\"Go \" if x == \"Go\" else \"Stop\") + \"Cazzy\"\n",
    "assert msg2 == \"Go Cazzy\"\n",
    "print(msg2)\n",
    "\n",
    "count = sum(1 for _ in range(3))\n",
    "assert count == 3\n",
    "print(\"iterations ->\", count)\n",
    "\n",
    "seq = [n+1 for n in range(3)]\n",
    "assert seq == [1,2,3]\n",
    "print(\"n+1 sequence ->\", seq)\n",
    "\n",
    "A = [\"1\",\"2\",\"3\"]\n",
    "dbl = [2*a for a in A]\n",
    "assert dbl == [\"11\",\"22\",\"33\"]\n",
    "print(\"string*2 ->\", dbl)"
   ]
  },
  {
   "cell_type": "markdown",
   "id": "786850a0",
   "metadata": {},
   "source": [
    "## 5. Functions & Classes"
   ]
  },
  {
   "cell_type": "code",
   "execution_count": 6,
   "id": "b6900c50",
   "metadata": {},
   "outputs": [
    {
     "name": "stdout",
     "output_type": "stream",
     "text": [
      "\n",
      "================================================================================\n",
      "Functions & Classes\n",
      "================================================================================\n",
      "x=1 y=2\n",
      "x=2 y=2\n"
     ]
    }
   ],
   "source": [
    "section(\"Functions & Classes\")\n",
    "def Add(x: str, y: str) -> str:\n",
    "    z = y + x\n",
    "    return y\n",
    "\n",
    "assert Add(\"1\",\"1\") == \"1\"\n",
    "\n",
    "class Points:\n",
    "    def __init__(self, x: int, y: int):\n",
    "        self.x = x; self.y = y\n",
    "    def __repr__(self):\n",
    "        return f\"Points(x={self.x}, y={self.y})\"\n",
    "    def print_point(self) -> str:\n",
    "        s = f\"x={self.x} y={self.y}\"; print(s); return s\n",
    "\n",
    "p1 = Points(1,2)\n",
    "assert p1.print_point() == \"x=1 y=2\"\n",
    "p2 = Points(1,2); p2.x = 2\n",
    "assert p2.print_point() == \"x=2 y=2\""
   ]
  },
  {
   "cell_type": "markdown",
   "id": "2140cc2a",
   "metadata": {},
   "source": [
    "## 6. File I/O"
   ]
  },
  {
   "cell_type": "code",
   "execution_count": 7,
   "id": "b28ffbef",
   "metadata": {},
   "outputs": [
    {
     "name": "stdout",
     "output_type": "stream",
     "text": [
      "\n",
      "================================================================================\n",
      "File I/O\n",
      "================================================================================\n",
      "readlines -> ['Line 1', 'Line 2']\n"
     ]
    }
   ],
   "source": [
    "section(\"File I/O\")\n",
    "base = Path(\"python_basics_demo\"); base.mkdir(exist_ok=True)\n",
    "ex1, ex2, ex3 = base/\"Example1.txt\", base/\"Example2.txt\", base/\"Example3.txt\"\n",
    "\n",
    "# write\n",
    "with open(ex2, \"w\", encoding=\"utf-8\") as f:\n",
    "    f.write(\"This is line A\\n\"); f.write(\"This is line B\\n\")\n",
    "\n",
    "# append\n",
    "with open(ex3, \"a\", encoding=\"utf-8\") as f:\n",
    "    f.write(\"This is line C\\n\")\n",
    "\n",
    "# read\n",
    "if not ex1.exists():\n",
    "    ex1.write_text(\"Line 1\\nLine 2\\n\", encoding=\"utf-8\")\n",
    "with open(ex1, \"r\", encoding=\"utf-8\") as f:\n",
    "    lines = [ln.strip() for ln in f.readlines()]\n",
    "assert lines == [\"Line 1\",\"Line 2\"]\n",
    "print(\"readlines ->\", lines)"
   ]
  },
  {
   "cell_type": "markdown",
   "id": "eb057480",
   "metadata": {},
   "source": [
    "## 7. NumPy Essentials"
   ]
  },
  {
   "cell_type": "code",
   "execution_count": 8,
   "id": "ef1ce4ad",
   "metadata": {},
   "outputs": [
    {
     "name": "stdout",
     "output_type": "stream",
     "text": [
      "\n",
      "================================================================================\n",
      "NumPy Essentials\n",
      "================================================================================\n",
      "elementwise -> [0 0 0 0 0]\n",
      "dot -> 0\n",
      "broadcast add -> [11 11 11 11 11]\n",
      "matmul ->\n",
      " [[19 22]\n",
      " [43 50]]\n"
     ]
    }
   ],
   "source": [
    "section(\"NumPy Essentials\")\n",
    "a = np.array([0,1,0,1,0]); b = np.array([1,0,1,0,1])\n",
    "assert np.array_equal(a*b, np.array([0,0,0,0,0]))\n",
    "print(\"elementwise ->\", a*b)\n",
    "\n",
    "a2 = np.array([0,1]); b2 = np.array([1,0])\n",
    "assert np.dot(a2,b2) == 0\n",
    "print(\"dot ->\", np.dot(a2,b2))\n",
    "\n",
    "a3 = np.array([1,1,1,1,1])\n",
    "assert np.array_equal(a3+10, np.array([11,11,11,11,11]))\n",
    "print(\"broadcast add ->\", a3+10)\n",
    "\n",
    "A = np.array([[1,2],[3,4]]); B = np.array([[5,6],[7,8]])\n",
    "M = np.dot(A,B)\n",
    "assert np.array_equal(M, np.array([[19,22],[43,50]]))\n",
    "print(\"matmul ->\\n\", M)"
   ]
  },
  {
   "cell_type": "markdown",
   "id": "9b9c2445",
   "metadata": {},
   "source": [
    "## 8. Pandas Essentials"
   ]
  },
  {
   "cell_type": "code",
   "execution_count": 9,
   "id": "915c5184",
   "metadata": {},
   "outputs": [
    {
     "name": "stdout",
     "output_type": "stream",
     "text": [
      "\n",
      "================================================================================\n",
      "Pandas Essentials\n",
      "================================================================================\n",
      "   x  y\n",
      "0  1  a\n",
      "1  2  b\n",
      "2  3  c\n",
      "3  4  d\n",
      "4  5  e\n",
      "\n",
      "All checks passed.\n"
     ]
    }
   ],
   "source": [
    "section(\"Pandas Essentials\")\n",
    "df = pd.DataFrame({\"x\":[1,2,3,4,5,6],\"y\":list(\"abcdef\")})\n",
    "head = df.head()\n",
    "assert len(head) == 5\n",
    "print(head)\n",
    "print(\"\\nAll checks passed.\")"
   ]
  }
 ],
 "metadata": {
  "kernelspec": {
   "display_name": "Python 3 (ipykernel)",
   "language": "python",
   "name": "python3"
  },
  "language_info": {
   "codemirror_mode": {
    "name": "ipython",
    "version": 3
   },
   "file_extension": ".py",
   "mimetype": "text/x-python",
   "name": "python",
   "nbconvert_exporter": "python",
   "pygments_lexer": "ipython3",
   "version": "3.11.11"
  }
 },
 "nbformat": 4,
 "nbformat_minor": 5
}
