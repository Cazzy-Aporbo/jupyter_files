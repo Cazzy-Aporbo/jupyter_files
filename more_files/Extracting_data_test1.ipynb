{
 "cells": [
  {
   "cell_type": "code",
   "execution_count": 1,
   "id": "8f3a9be0",
   "metadata": {},
   "outputs": [
    {
     "name": "stdout",
     "output_type": "stream",
     "text": [
      "Libraries imported successfully.\n"
     ]
    }
   ],
   "source": [
    "# Import necessary libraries  \n",
    "import pandas as pd  \n",
    "import requests  \n",
    "from bs4 import BeautifulSoup  \n",
    "  \n",
    "print(\"Libraries imported successfully.\")  "
   ]
  },
  {
   "cell_type": "code",
   "execution_count": 2,
   "id": "8a4fe7fc",
   "metadata": {},
   "outputs": [
    {
     "name": "stdout",
     "output_type": "stream",
     "text": [
      "Data sources defined.\n"
     ]
    }
   ],
   "source": [
    "# Define data sources  \n",
    "data_sources = [  \n",
    "    \"https://www.healthgrades.com/\",  \n",
    "    \"https://www.webmd.com/\",  \n",
    "    \"https://www.patient.info/\",  \n",
    "    # Adding more sources as needed  \n",
    "]  \n",
    "  \n",
    "print(\"Data sources defined.\")  "
   ]
  },
  {
   "cell_type": "code",
   "execution_count": 3,
   "id": "08058f83",
   "metadata": {},
   "outputs": [
    {
     "name": "stdout",
     "output_type": "stream",
     "text": [
      "Web scraping function defined.\n"
     ]
    }
   ],
   "source": [
    "# Function to scrape data from a given URL  \n",
    "def scrape_data(url):  \n",
    "    response = requests.get(url)  \n",
    "    soup = BeautifulSoup(response.text, 'html.parser')  \n",
    "      \n",
    "    # Extract relevant data (this will vary based on the website structure)  \n",
    "    questions = []  \n",
    "    for item in soup.find_all('h2'):  # looking for headings  \n",
    "        questions.append(item.get_text())  \n",
    "      \n",
    "    return questions  \n",
    "  \n",
    "print(\"Web scraping function defined.\")  "
   ]
  },
  {
   "cell_type": "code",
   "execution_count": 4,
   "id": "e8e14c30",
   "metadata": {},
   "outputs": [
    {
     "name": "stdout",
     "output_type": "stream",
     "text": [
      "Data collected from sources.\n"
     ]
    }
   ],
   "source": [
    "# Collect data from each source  \n",
    "all_questions = []  \n",
    "for source in data_sources:  \n",
    "    questions = scrape_data(source)  \n",
    "    all_questions.extend(questions)  \n",
    "  \n",
    "print(\"Data collected from sources.\")  "
   ]
  },
  {
   "cell_type": "code",
   "execution_count": 5,
   "id": "e4e3cca1",
   "metadata": {},
   "outputs": [
    {
     "name": "stdout",
     "output_type": "stream",
     "text": [
      "DataFrame created with collected questions.\n"
     ]
    }
   ],
   "source": [
    "# Create a DataFrame from the collected questions  \n",
    "questions_df = pd.DataFrame(all_questions, columns=['Questions'])  \n",
    "  \n",
    "print(\"DataFrame created with collected questions.\")  "
   ]
  },
  {
   "cell_type": "code",
   "execution_count": 6,
   "id": "4648c6d6",
   "metadata": {},
   "outputs": [
    {
     "name": "stdout",
     "output_type": "stream",
     "text": [
      "Data cleaned and duplicates removed.\n"
     ]
    }
   ],
   "source": [
    "# Clean the DataFrame  \n",
    "questions_df.drop_duplicates(inplace=True)  \n",
    "questions_df.reset_index(drop=True, inplace=True)  \n",
    "  \n",
    "print(\"Data cleaned and duplicates removed.\")  "
   ]
  },
  {
   "cell_type": "code",
   "execution_count": 7,
   "id": "b65e8a27",
   "metadata": {},
   "outputs": [
    {
     "name": "stdout",
     "output_type": "stream",
     "text": [
      "Data saved to 'doctor_questions.csv'.\n"
     ]
    }
   ],
   "source": [
    "# Save the DataFrame to a CSV file  \n",
    "questions_df.to_csv('doctor_questions.csv', index=False)  \n",
    "  \n",
    "print(\"Data saved to 'doctor_questions.csv'.\")  "
   ]
  },
  {
   "cell_type": "code",
   "execution_count": null,
   "id": "9c2ab003",
   "metadata": {},
   "outputs": [],
   "source": []
  }
 ],
 "metadata": {
  "kernelspec": {
   "display_name": "Python 3 (ipykernel)",
   "language": "python",
   "name": "python3"
  },
  "language_info": {
   "codemirror_mode": {
    "name": "ipython",
    "version": 3
   },
   "file_extension": ".py",
   "mimetype": "text/x-python",
   "name": "python",
   "nbconvert_exporter": "python",
   "pygments_lexer": "ipython3",
   "version": "3.11.4"
  }
 },
 "nbformat": 4,
 "nbformat_minor": 5
}
